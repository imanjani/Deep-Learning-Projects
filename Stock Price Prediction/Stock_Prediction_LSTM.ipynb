{
 "cells": [
  {
   "cell_type": "markdown",
   "metadata": {},
   "source": [
    "## RNN model to predict Apple Stock price\n",
    "\n"
   ]
  },
  {
   "cell_type": "code",
   "execution_count": 1,
   "metadata": {},
   "outputs": [
    {
     "name": "stderr",
     "output_type": "stream",
     "text": [
      "\n",
      "Bad key \"text.kerning_factor\" on line 4 in\n",
      "/Users/imanjani/opt/anaconda3/lib/python3.7/site-packages/matplotlib/mpl-data/stylelib/_classic_test_patch.mplstyle.\n",
      "You probably need to get an updated matplotlibrc file from\n",
      "http://github.com/matplotlib/matplotlib/blob/master/matplotlibrc.template\n",
      "or from the matplotlib source distribution\n"
     ]
    }
   ],
   "source": [
    "# Part 1 - Data Preprocessing\n",
    "\n",
    "# Importing the libraries\n",
    "import time\n",
    "import numpy as np\n",
    "import matplotlib.pyplot as plt\n",
    "import pandas as pd"
   ]
  },
  {
   "cell_type": "code",
   "execution_count": 2,
   "metadata": {},
   "outputs": [
    {
     "name": "stdout",
     "output_type": "stream",
     "text": [
      "(2026, 7)\n"
     ]
    },
    {
     "data": {
      "text/html": [
       "<div>\n",
       "<style scoped>\n",
       "    .dataframe tbody tr th:only-of-type {\n",
       "        vertical-align: middle;\n",
       "    }\n",
       "\n",
       "    .dataframe tbody tr th {\n",
       "        vertical-align: top;\n",
       "    }\n",
       "\n",
       "    .dataframe thead th {\n",
       "        text-align: right;\n",
       "    }\n",
       "</style>\n",
       "<table border=\"1\" class=\"dataframe\">\n",
       "  <thead>\n",
       "    <tr style=\"text-align: right;\">\n",
       "      <th></th>\n",
       "      <th>Date</th>\n",
       "      <th>Open</th>\n",
       "      <th>High</th>\n",
       "      <th>Low</th>\n",
       "      <th>Close</th>\n",
       "      <th>Adj Close</th>\n",
       "      <th>Volume</th>\n",
       "    </tr>\n",
       "  </thead>\n",
       "  <tbody>\n",
       "    <tr>\n",
       "      <th>2021</th>\n",
       "      <td>2019-01-15</td>\n",
       "      <td>150.270004</td>\n",
       "      <td>153.389999</td>\n",
       "      <td>150.050003</td>\n",
       "      <td>153.070007</td>\n",
       "      <td>153.070007</td>\n",
       "      <td>28710900</td>\n",
       "    </tr>\n",
       "    <tr>\n",
       "      <th>2022</th>\n",
       "      <td>2019-01-16</td>\n",
       "      <td>153.080002</td>\n",
       "      <td>155.880005</td>\n",
       "      <td>153.000000</td>\n",
       "      <td>154.940002</td>\n",
       "      <td>154.940002</td>\n",
       "      <td>30569700</td>\n",
       "    </tr>\n",
       "    <tr>\n",
       "      <th>2023</th>\n",
       "      <td>2019-01-17</td>\n",
       "      <td>154.199997</td>\n",
       "      <td>157.660004</td>\n",
       "      <td>153.259995</td>\n",
       "      <td>155.860001</td>\n",
       "      <td>155.860001</td>\n",
       "      <td>29821200</td>\n",
       "    </tr>\n",
       "    <tr>\n",
       "      <th>2024</th>\n",
       "      <td>2019-01-18</td>\n",
       "      <td>157.500000</td>\n",
       "      <td>157.880005</td>\n",
       "      <td>155.979996</td>\n",
       "      <td>156.820007</td>\n",
       "      <td>156.820007</td>\n",
       "      <td>33751000</td>\n",
       "    </tr>\n",
       "    <tr>\n",
       "      <th>2025</th>\n",
       "      <td>2019-01-22</td>\n",
       "      <td>156.410004</td>\n",
       "      <td>156.729996</td>\n",
       "      <td>152.619995</td>\n",
       "      <td>153.300003</td>\n",
       "      <td>153.300003</td>\n",
       "      <td>30278100</td>\n",
       "    </tr>\n",
       "  </tbody>\n",
       "</table>\n",
       "</div>"
      ],
      "text/plain": [
       "           Date        Open        High         Low       Close   Adj Close  \\\n",
       "2021 2019-01-15  150.270004  153.389999  150.050003  153.070007  153.070007   \n",
       "2022 2019-01-16  153.080002  155.880005  153.000000  154.940002  154.940002   \n",
       "2023 2019-01-17  154.199997  157.660004  153.259995  155.860001  155.860001   \n",
       "2024 2019-01-18  157.500000  157.880005  155.979996  156.820007  156.820007   \n",
       "2025 2019-01-22  156.410004  156.729996  152.619995  153.300003  153.300003   \n",
       "\n",
       "        Volume  \n",
       "2021  28710900  \n",
       "2022  30569700  \n",
       "2023  29821200  \n",
       "2024  33751000  \n",
       "2025  30278100  "
      ]
     },
     "execution_count": 2,
     "metadata": {},
     "output_type": "execute_result"
    }
   ],
   "source": [
    "dataset=pd.read_csv('data/AAPL.csv',parse_dates=['Date'])\n",
    "\n",
    "print (dataset.shape)\n",
    "dataset.tail()"
   ]
  },
  {
   "cell_type": "markdown",
   "metadata": {},
   "source": [
    "\n",
    "\n",
    "#### I want to train my model with openning price from 2011 to 12/2018 and then predict stock price for 2019"
   ]
  },
  {
   "cell_type": "code",
   "execution_count": 3,
   "metadata": {},
   "outputs": [
    {
     "data": {
      "text/plain": [
       "((14, 1), (2012, 1))"
      ]
     },
     "execution_count": 3,
     "metadata": {},
     "output_type": "execute_result"
    }
   ],
   "source": [
    "start=time.time()\n",
    "\n",
    "test=dataset[dataset.Date >'2019-01-01'].iloc[:,1:2].values # price after 2019\n",
    "train=dataset[dataset.Date <'2019-01-01'].iloc[:,1:2].values # price before 1/2019\n",
    "\n",
    "test.shape , train.shape"
   ]
  },
  {
   "cell_type": "code",
   "execution_count": 4,
   "metadata": {},
   "outputs": [],
   "source": [
    "# scaling\n",
    "\n",
    "# we need to normalize train and test\n",
    "\n",
    "from sklearn.preprocessing import MinMaxScaler\n",
    "\n",
    "SC=MinMaxScaler()\n",
    "\n",
    "train=SC.fit_transform(train)\n",
    "test=SC.transform(test)\n",
    "\n"
   ]
  },
  {
   "cell_type": "code",
   "execution_count": 5,
   "metadata": {},
   "outputs": [
    {
     "name": "stdout",
     "output_type": "stream",
     "text": [
      "(1932, 80) (1932,)\n"
     ]
    }
   ],
   "source": [
    "\n",
    "X_train=[]\n",
    "y_train=[]\n",
    "\n",
    "for i in range(80, 2012):   \n",
    "    \n",
    "    X_train.append(train[i-80:i,0])\n",
    "    y_train.append(train[i,0])\n",
    "    \n",
    "\n",
    "\n",
    "# conver x and y toarray \n",
    "\n",
    "X_train , y_train = np.array(X_train) , np.array(y_train)\n",
    "\n",
    "print (X_train.shape, y_train.shape)"
   ]
  },
  {
   "cell_type": "markdown",
   "metadata": {},
   "source": [
    "- for RNN model in keras we need a 3D input \n",
    "    * (batch_size, timesteps , input_dim)"
   ]
  },
  {
   "cell_type": "code",
   "execution_count": 6,
   "metadata": {},
   "outputs": [
    {
     "data": {
      "text/plain": [
       "(1932, 80, 1)"
      ]
     },
     "execution_count": 6,
     "metadata": {},
     "output_type": "execute_result"
    }
   ],
   "source": [
    "X_train=np.reshape(X_train, (1932,80,1))  # 1932,80 is the shape of x_train adding another dimension\n",
    "X_train.shape"
   ]
  },
  {
   "cell_type": "markdown",
   "metadata": {},
   "source": [
    "# RNN Model with 4 Layers"
   ]
  },
  {
   "cell_type": "code",
   "execution_count": 7,
   "metadata": {},
   "outputs": [
    {
     "name": "stderr",
     "output_type": "stream",
     "text": [
      "Using TensorFlow backend.\n"
     ]
    },
    {
     "name": "stdout",
     "output_type": "stream",
     "text": [
      "Model: \"sequential_1\"\n",
      "_________________________________________________________________\n",
      "Layer (type)                 Output Shape              Param #   \n",
      "=================================================================\n",
      "lstm_1 (LSTM)                (None, 80, 200)           161600    \n",
      "_________________________________________________________________\n",
      "dropout_1 (Dropout)          (None, 80, 200)           0         \n",
      "_________________________________________________________________\n",
      "lstm_2 (LSTM)                (None, 80, 200)           320800    \n",
      "_________________________________________________________________\n",
      "dropout_2 (Dropout)          (None, 80, 200)           0         \n",
      "_________________________________________________________________\n",
      "lstm_3 (LSTM)                (None, 80, 200)           320800    \n",
      "_________________________________________________________________\n",
      "dropout_3 (Dropout)          (None, 80, 200)           0         \n",
      "_________________________________________________________________\n",
      "lstm_4 (LSTM)                (None, 200)               320800    \n",
      "_________________________________________________________________\n",
      "dropout_4 (Dropout)          (None, 200)               0         \n",
      "_________________________________________________________________\n",
      "dense_1 (Dense)              (None, 1)                 201       \n",
      "=================================================================\n",
      "Total params: 1,124,201\n",
      "Trainable params: 1,124,201\n",
      "Non-trainable params: 0\n",
      "_________________________________________________________________\n"
     ]
    }
   ],
   "source": [
    "from keras.layers import Dense\n",
    "from keras.layers import Dropout\n",
    "from keras.models import Sequential\n",
    "from keras.layers import LSTM\n",
    "\n",
    "# initialize the model\n",
    "predictor=Sequential()\n",
    "\n",
    "predictor.add(LSTM(units=200, return_sequences=True, input_shape=(X_train.shape[1],1)))  \n",
    "predictor.add(Dropout(rate=0.2)) \n",
    "\n",
    "\n",
    "predictor.add(LSTM(units=200, return_sequences=True))  \n",
    "predictor.add(Dropout(rate=0.2))\n",
    "\n",
    "predictor.add(LSTM(units=200, return_sequences=True))  \n",
    "predictor.add(Dropout(rate=0.2))\n",
    "\n",
    "predictor.add(LSTM(units=200))  \n",
    "predictor.add(Dropout(rate=0.2))\n",
    "\n",
    "\n",
    "\n",
    "predictor.add(Dense(units=1))\n",
    "predictor.compile(optimizer='sgd', loss='mse')\n",
    "\n",
    "\n",
    "predictor.summary()\n",
    "\n",
    "\n"
   ]
  },
  {
   "cell_type": "code",
   "execution_count": 8,
   "metadata": {},
   "outputs": [
    {
     "name": "stdout",
     "output_type": "stream",
     "text": [
      "Train on 1835 samples, validate on 97 samples\n",
      "Epoch 1/50\n",
      "1835/1835 [==============================] - 19s 10ms/step - loss: 0.0473 - val_loss: 0.2439\n",
      "Epoch 2/50\n",
      "1835/1835 [==============================] - 17s 9ms/step - loss: 0.0322 - val_loss: 0.2067\n",
      "Epoch 3/50\n",
      "1835/1835 [==============================] - 18s 10ms/step - loss: 0.0267 - val_loss: 0.1601\n",
      "Epoch 4/50\n",
      "1835/1835 [==============================] - 17s 9ms/step - loss: 0.0192 - val_loss: 0.0851\n",
      "Epoch 5/50\n",
      "1835/1835 [==============================] - 18s 10ms/step - loss: 0.0108 - val_loss: 0.0414\n",
      "Epoch 6/50\n",
      "1835/1835 [==============================] - 17s 9ms/step - loss: 0.0046 - val_loss: 0.0177\n",
      "Epoch 7/50\n",
      "1835/1835 [==============================] - 16s 9ms/step - loss: 0.0021 - val_loss: 0.0126\n",
      "Epoch 8/50\n",
      "1835/1835 [==============================] - 16s 9ms/step - loss: 0.0016 - val_loss: 0.0122\n",
      "Epoch 9/50\n",
      "1835/1835 [==============================] - 16s 9ms/step - loss: 0.0016 - val_loss: 0.0123\n",
      "Epoch 10/50\n",
      "1835/1835 [==============================] - 17s 9ms/step - loss: 0.0017 - val_loss: 0.0123\n",
      "Epoch 11/50\n",
      "1835/1835 [==============================] - 17s 9ms/step - loss: 0.0017 - val_loss: 0.0123\n",
      "Epoch 12/50\n",
      "1835/1835 [==============================] - 17s 10ms/step - loss: 0.0017 - val_loss: 0.0121\n",
      "Epoch 13/50\n",
      "1835/1835 [==============================] - 17s 9ms/step - loss: 0.0016 - val_loss: 0.0125\n",
      "Epoch 14/50\n",
      "1835/1835 [==============================] - 23s 13ms/step - loss: 0.0017 - val_loss: 0.0121\n",
      "Epoch 15/50\n",
      "1835/1835 [==============================] - 18s 10ms/step - loss: 0.0016 - val_loss: 0.0122\n",
      "Epoch 16/50\n",
      "1835/1835 [==============================] - 18s 10ms/step - loss: 0.0016 - val_loss: 0.0130\n",
      "Epoch 17/50\n",
      "1835/1835 [==============================] - 18s 10ms/step - loss: 0.0015 - val_loss: 0.0123\n",
      "Epoch 18/50\n",
      "1835/1835 [==============================] - 17s 9ms/step - loss: 0.0016 - val_loss: 0.0120\n",
      "Epoch 19/50\n",
      "1835/1835 [==============================] - 16s 9ms/step - loss: 0.0016 - val_loss: 0.0121\n",
      "Epoch 20/50\n",
      "1835/1835 [==============================] - 17s 9ms/step - loss: 0.0016 - val_loss: 0.0122\n",
      "Epoch 21/50\n",
      "1835/1835 [==============================] - 17s 9ms/step - loss: 0.0016 - val_loss: 0.0120\n",
      "Epoch 22/50\n",
      "1835/1835 [==============================] - 24s 13ms/step - loss: 0.0016 - val_loss: 0.0123\n",
      "Epoch 23/50\n",
      "1835/1835 [==============================] - 27s 15ms/step - loss: 0.0016 - val_loss: 0.0120\n",
      "Epoch 24/50\n",
      "1835/1835 [==============================] - 22s 12ms/step - loss: 0.0015 - val_loss: 0.0119\n",
      "Epoch 25/50\n",
      "1835/1835 [==============================] - 19s 10ms/step - loss: 0.0015 - val_loss: 0.0121\n",
      "Epoch 26/50\n",
      "1835/1835 [==============================] - 18s 10ms/step - loss: 0.0015 - val_loss: 0.0123\n",
      "Epoch 27/50\n",
      "1835/1835 [==============================] - 18s 10ms/step - loss: 0.0015 - val_loss: 0.0120\n",
      "Epoch 28/50\n",
      "1835/1835 [==============================] - 19s 10ms/step - loss: 0.0016 - val_loss: 0.0120\n",
      "Epoch 29/50\n",
      "1835/1835 [==============================] - 19s 10ms/step - loss: 0.0015 - val_loss: 0.0124\n",
      "Epoch 30/50\n",
      "1835/1835 [==============================] - 18s 10ms/step - loss: 0.0015 - val_loss: 0.0120\n",
      "Epoch 31/50\n",
      "1835/1835 [==============================] - 20s 11ms/step - loss: 0.0015 - val_loss: 0.0120\n",
      "Epoch 32/50\n",
      "1835/1835 [==============================] - 32s 17ms/step - loss: 0.0014 - val_loss: 0.0121\n",
      "Epoch 33/50\n",
      "1835/1835 [==============================] - 30s 17ms/step - loss: 0.0015 - val_loss: 0.0118\n",
      "Epoch 34/50\n",
      "1835/1835 [==============================] - 25s 14ms/step - loss: 0.0015 - val_loss: 0.0119\n",
      "Epoch 35/50\n",
      "1835/1835 [==============================] - 31s 17ms/step - loss: 0.0015 - val_loss: 0.0121\n",
      "Epoch 36/50\n",
      "1835/1835 [==============================] - 21s 12ms/step - loss: 0.0015 - val_loss: 0.0127\n",
      "Epoch 37/50\n",
      "1835/1835 [==============================] - 20s 11ms/step - loss: 0.0016 - val_loss: 0.0119\n",
      "Epoch 38/50\n",
      "1835/1835 [==============================] - 18s 10ms/step - loss: 0.0015 - val_loss: 0.0121\n",
      "Epoch 39/50\n",
      "1835/1835 [==============================] - 20s 11ms/step - loss: 0.0015 - val_loss: 0.0123\n",
      "Epoch 40/50\n",
      "1835/1835 [==============================] - 20s 11ms/step - loss: 0.0015 - val_loss: 0.0118\n",
      "Epoch 41/50\n",
      "1835/1835 [==============================] - 20s 11ms/step - loss: 0.0015 - val_loss: 0.0118\n",
      "Epoch 42/50\n",
      "1835/1835 [==============================] - 26s 14ms/step - loss: 0.0015 - val_loss: 0.0120\n",
      "Epoch 43/50\n",
      "1835/1835 [==============================] - 28s 15ms/step - loss: 0.0015 - val_loss: 0.0131\n",
      "Epoch 44/50\n",
      "1835/1835 [==============================] - 22s 12ms/step - loss: 0.0014 - val_loss: 0.0123\n",
      "Epoch 45/50\n",
      "1835/1835 [==============================] - 20s 11ms/step - loss: 0.0014 - val_loss: 0.0122\n",
      "Epoch 46/50\n",
      "1835/1835 [==============================] - 21s 11ms/step - loss: 0.0014 - val_loss: 0.0117\n",
      "Epoch 47/50\n",
      "1835/1835 [==============================] - 20s 11ms/step - loss: 0.0014 - val_loss: 0.0121\n",
      "Epoch 48/50\n",
      "1835/1835 [==============================] - 19s 11ms/step - loss: 0.0015 - val_loss: 0.0120\n",
      "Epoch 49/50\n",
      "1835/1835 [==============================] - 19s 10ms/step - loss: 0.0013 - val_loss: 0.0122\n",
      "Epoch 50/50\n",
      "1835/1835 [==============================] - 19s 11ms/step - loss: 0.0015 - val_loss: 0.0118\n",
      "CPU times: user 59min 17s, sys: 29min 13s, total: 1h 28min 30s\n",
      "Wall time: 16min 42s\n"
     ]
    },
    {
     "data": {
      "text/plain": [
       "<keras.callbacks.callbacks.History at 0x7fade2931b10>"
      ]
     },
     "execution_count": 8,
     "metadata": {},
     "output_type": "execute_result"
    }
   ],
   "source": [
    "# fit the model \n",
    "\n",
    "%time predictor.fit(X_train,y_train , epochs=50 , batch_size=30, validation_split=0.05)"
   ]
  },
  {
   "cell_type": "code",
   "execution_count": 9,
   "metadata": {},
   "outputs": [],
   "source": [
    "# to save time save the model\n",
    "\n",
    "predictor.save('apple_stock_predictor.h5')"
   ]
  },
  {
   "cell_type": "code",
   "execution_count": 10,
   "metadata": {},
   "outputs": [
    {
     "name": "stdout",
     "output_type": "stream",
     "text": [
      "(108,)\n"
     ]
    }
   ],
   "source": [
    "inputs=dataset[len(train)-len(test)-80:]['Open'].values\n",
    "\n",
    "print (inputs.shape)"
   ]
  },
  {
   "cell_type": "code",
   "execution_count": 11,
   "metadata": {},
   "outputs": [
    {
     "name": "stdout",
     "output_type": "stream",
     "text": [
      "(120,)\n"
     ]
    },
    {
     "data": {
      "text/plain": [
       "(120, 1)"
      ]
     },
     "execution_count": 11,
     "metadata": {},
     "output_type": "execute_result"
    }
   ],
   "source": [
    "inputs=dataset['Open'].iloc[-120:,].values\n",
    "print (inputs.shape)\n",
    "\n",
    "inputs=inputs.reshape(-1,1)\n",
    "inputs = SC.transform(inputs)\n",
    "\n",
    "inputs.shape"
   ]
  },
  {
   "cell_type": "code",
   "execution_count": 12,
   "metadata": {},
   "outputs": [
    {
     "data": {
      "text/plain": [
       "(40, 80)"
      ]
     },
     "execution_count": 12,
     "metadata": {},
     "output_type": "execute_result"
    }
   ],
   "source": [
    "\n",
    "X_test=[]\n",
    "\n",
    "for i in range(80,120):\n",
    "    X_test.append(inputs[i-80:i,0])\n",
    "    \n",
    "X_test= np.array(X_test)\n",
    "X_test.shape"
   ]
  },
  {
   "cell_type": "code",
   "execution_count": 13,
   "metadata": {},
   "outputs": [
    {
     "data": {
      "text/plain": [
       "(40, 80, 1)"
      ]
     },
     "execution_count": 13,
     "metadata": {},
     "output_type": "execute_result"
    }
   ],
   "source": [
    "# add one more dim\n",
    "\n",
    "X_test=np.reshape(X_test,(40,80,1))\n",
    "X_test.shape"
   ]
  },
  {
   "cell_type": "code",
   "execution_count": 14,
   "metadata": {},
   "outputs": [],
   "source": [
    "predicted_price=predictor.predict(X_test)\n",
    "\n",
    "predicted_price=SC.inverse_transform(predicted_price)"
   ]
  },
  {
   "cell_type": "code",
   "execution_count": 15,
   "metadata": {},
   "outputs": [
    {
     "data": {
      "image/png": "[encoded data removed]",
      "text/plain": [
       "<Figure size 1080x504 with 1 Axes>"
      ]
     },
     "metadata": {
      "needs_background": "light"
     },
     "output_type": "display_data"
    }
   ],
   "source": [
    "\n",
    "# we predict for the last 40 days and comapare it to real price now\n",
    "\n",
    "real_price=dataset['Open'].iloc[-40:,].values\n",
    "\n",
    "\n",
    "#Visualising the results\n",
    "plt.figure(figsize=(15,7))\n",
    "plt.plot(predicted_price, color='red', label='predicted')\n",
    "plt.plot(real_price, color='blue', label='real')\n",
    "plt.grid()\n",
    "plt.title('Apple Stock Price Prediction')\n",
    "plt.xlabel('Time')\n",
    "plt.ylabel('Apple Stock Price')\n",
    "plt.legend()\n",
    "plt.show()\n"
   ]
  },
  {
   "cell_type": "code",
   "execution_count": 16,
   "metadata": {},
   "outputs": [
    {
     "name": "stdout",
     "output_type": "stream",
     "text": [
      "(1932, 70) (1932,)\n"
     ]
    }
   ],
   "source": [
    "\n",
    "\n",
    "\n",
    "# same model for the next 10 days \n",
    "\n",
    "train=dataset[dataset.Date <'2019-01-01'].iloc[:,1:2].values\n",
    "\n",
    "from sklearn.preprocessing import MinMaxScaler\n",
    "\n",
    "SC=MinMaxScaler()\n",
    "\n",
    "train=SC.fit_transform(train)\n",
    "\n",
    "X_train=[]\n",
    "y_train=[]\n",
    "\n",
    "for i in range(70, 2002):   \n",
    "    X_train.append(train[i-70:i,0])\n",
    "    y_train.append(train[i+10,0])\n",
    "    \n",
    "\n",
    "\n",
    "X_train , y_train = np.array(X_train) , np.array(y_train)\n",
    "\n",
    "print (X_train.shape, y_train.shape)\n"
   ]
  },
  {
   "cell_type": "code",
   "execution_count": 17,
   "metadata": {},
   "outputs": [
    {
     "data": {
      "text/plain": [
       "(1932, 70, 1)"
      ]
     },
     "execution_count": 17,
     "metadata": {},
     "output_type": "execute_result"
    }
   ],
   "source": [
    "X_train=np.reshape(X_train, (1932,70,1))  # 1932,80 is the shape of x_train adding another dimension\n",
    "X_train.shape"
   ]
  },
  {
   "cell_type": "code",
   "execution_count": 18,
   "metadata": {},
   "outputs": [
    {
     "name": "stdout",
     "output_type": "stream",
     "text": [
      "Model: \"sequential_2\"\n",
      "_________________________________________________________________\n",
      "Layer (type)                 Output Shape              Param #   \n",
      "=================================================================\n",
      "lstm_5 (LSTM)                (None, 70, 100)           40800     \n",
      "_________________________________________________________________\n",
      "dropout_5 (Dropout)          (None, 70, 100)           0         \n",
      "_________________________________________________________________\n",
      "lstm_6 (LSTM)                (None, 70, 100)           80400     \n",
      "_________________________________________________________________\n",
      "dropout_6 (Dropout)          (None, 70, 100)           0         \n",
      "_________________________________________________________________\n",
      "lstm_7 (LSTM)                (None, 70, 100)           80400     \n",
      "_________________________________________________________________\n",
      "dropout_7 (Dropout)          (None, 70, 100)           0         \n",
      "_________________________________________________________________\n",
      "lstm_8 (LSTM)                (None, 100)               80400     \n",
      "_________________________________________________________________\n",
      "dropout_8 (Dropout)          (None, 100)               0         \n",
      "_________________________________________________________________\n",
      "dense_2 (Dense)              (None, 1)                 101       \n",
      "=================================================================\n",
      "Total params: 282,101\n",
      "Trainable params: 282,101\n",
      "Non-trainable params: 0\n",
      "_________________________________________________________________\n"
     ]
    }
   ],
   "source": [
    "from keras.layers import Dense\n",
    "from keras.layers import Dropout\n",
    "from keras.models import Sequential\n",
    "from keras.layers import LSTM\n",
    "\n",
    "# initialize the model\n",
    "predictor=Sequential()\n",
    "\n",
    "\n",
    "predictor.add(LSTM(units=100, return_sequences=True, input_shape=(X_train.shape[1],1)))  \n",
    "predictor.add(Dropout(rate=0.2)) \n",
    "predictor.add(LSTM(units=100, return_sequences=True))  \n",
    "predictor.add(Dropout(rate=0.2))\n",
    "predictor.add(LSTM(units=100, return_sequences=True))  \n",
    "predictor.add(Dropout(rate=0.2))\n",
    "predictor.add(LSTM(units=100))  \n",
    "predictor.add(Dropout(rate=0.2))\n",
    "predictor.add(Dense(units=1))\n",
    "\n",
    "\n",
    "predictor.compile(optimizer='sgd', loss='mse')\n",
    "\n",
    "\n",
    "# see the summary of model\n",
    "\n",
    "predictor.summary()\n"
   ]
  },
  {
   "cell_type": "code",
   "execution_count": 19,
   "metadata": {},
   "outputs": [
    {
     "name": "stdout",
     "output_type": "stream",
     "text": [
      "Train on 1835 samples, validate on 97 samples\n",
      "Epoch 1/15\n",
      "1835/1835 [==============================] - 10s 5ms/step - loss: 0.0423 - val_loss: 0.2529\n",
      "Epoch 2/15\n",
      "1835/1835 [==============================] - 8s 5ms/step - loss: 0.0300 - val_loss: 0.1603\n",
      "Epoch 3/15\n",
      "1835/1835 [==============================] - 9s 5ms/step - loss: 0.0246 - val_loss: 0.1439\n",
      "Epoch 4/15\n",
      "1835/1835 [==============================] - 9s 5ms/step - loss: 0.0168 - val_loss: 0.0834\n",
      "Epoch 5/15\n",
      "1835/1835 [==============================] - 8s 5ms/step - loss: 0.0090 - val_loss: 0.0402\n",
      "Epoch 6/15\n",
      "1835/1835 [==============================] - 9s 5ms/step - loss: 0.0042 - val_loss: 0.0239\n",
      "Epoch 7/15\n",
      "1835/1835 [==============================] - 8s 5ms/step - loss: 0.0030 - val_loss: 0.0199\n",
      "Epoch 8/15\n",
      "1835/1835 [==============================] - 8s 5ms/step - loss: 0.0028 - val_loss: 0.0194\n",
      "Epoch 9/15\n",
      "1835/1835 [==============================] - 8s 5ms/step - loss: 0.0027 - val_loss: 0.0197\n",
      "Epoch 10/15\n",
      "1835/1835 [==============================] - 8s 5ms/step - loss: 0.0027 - val_loss: 0.0195\n",
      "Epoch 11/15\n",
      "1835/1835 [==============================] - 8s 4ms/step - loss: 0.0027 - val_loss: 0.0192\n",
      "Epoch 12/15\n",
      "1835/1835 [==============================] - 8s 4ms/step - loss: 0.0026 - val_loss: 0.0193\n",
      "Epoch 13/15\n",
      "1835/1835 [==============================] - 9s 5ms/step - loss: 0.0028 - val_loss: 0.0194\n",
      "Epoch 14/15\n",
      "1835/1835 [==============================] - 9s 5ms/step - loss: 0.0026 - val_loss: 0.0196\n",
      "Epoch 15/15\n",
      "1835/1835 [==============================] - 9s 5ms/step - loss: 0.0028 - val_loss: 0.0200\n",
      "CPU times: user 5min 53s, sys: 2min 8s, total: 8min 1s\n",
      "Wall time: 2min 10s\n"
     ]
    },
    {
     "data": {
      "text/plain": [
       "<keras.callbacks.callbacks.History at 0x7fade4436d50>"
      ]
     },
     "execution_count": 19,
     "metadata": {},
     "output_type": "execute_result"
    }
   ],
   "source": [
    "# fit the model \n",
    "\n",
    "%time predictor.fit(X_train,y_train , epochs=15 , batch_size=30, validation_split=0.05)"
   ]
  },
  {
   "cell_type": "code",
   "execution_count": 20,
   "metadata": {},
   "outputs": [],
   "source": [
    "# to save time save the model\n",
    "\n",
    "predictor.save('apple_stock_predictor2.h5')"
   ]
  },
  {
   "cell_type": "code",
   "execution_count": 21,
   "metadata": {},
   "outputs": [
    {
     "name": "stdout",
     "output_type": "stream",
     "text": [
      "(130,)\n"
     ]
    },
    {
     "data": {
      "text/plain": [
       "(130, 1)"
      ]
     },
     "execution_count": 21,
     "metadata": {},
     "output_type": "execute_result"
    }
   ],
   "source": [
    "\n",
    "inputs=dataset['Open'].iloc[-150:-20,].values\n",
    "\n",
    "print (inputs.shape)\n",
    "\n",
    "inputs=inputs.reshape(-1,1)\n",
    "\n",
    "inputs = SC.transform(inputs)\n",
    "\n",
    "inputs.shape"
   ]
  },
  {
   "cell_type": "code",
   "execution_count": 22,
   "metadata": {},
   "outputs": [
    {
     "name": "stdout",
     "output_type": "stream",
     "text": [
      "(60, 70)\n"
     ]
    }
   ],
   "source": [
    "X_test=[]\n",
    "\n",
    "for i in range(70,130):\n",
    "    X_test.append(inputs[i-70:i,0])\n",
    "    \n",
    "X_test= np.array(X_test)\n",
    "print (X_test.shape)\n",
    "\n",
    "\n",
    "\n"
   ]
  },
  {
   "cell_type": "code",
   "execution_count": 23,
   "metadata": {},
   "outputs": [
    {
     "data": {
      "text/plain": [
       "(60, 70, 1)"
      ]
     },
     "execution_count": 23,
     "metadata": {},
     "output_type": "execute_result"
    }
   ],
   "source": [
    "X_test=np.reshape(X_test,(60,70,1))\n",
    "X_test.shape\n"
   ]
  },
  {
   "cell_type": "code",
   "execution_count": 24,
   "metadata": {},
   "outputs": [],
   "source": [
    "predicted_price=predictor.predict(X_test)\n",
    "\n",
    "predicted_price=SC.inverse_transform(predicted_price)\n",
    "\n"
   ]
  },
  {
   "cell_type": "code",
   "execution_count": 29,
   "metadata": {},
   "outputs": [
    {
     "data": {
      "image/png": "[encoded data removed]",
      "text/plain": [
       "<Figure size 1080x504 with 1 Axes>"
      ]
     },
     "metadata": {
      "needs_background": "light"
     },
     "output_type": "display_data"
    }
   ],
   "source": [
    "# we predict for the last 40 days and comapare it to real price now\n",
    "\n",
    "real_price=dataset['Open'].iloc[-60:,].values\n",
    "\n",
    "\n",
    "#Visualising the results\n",
    "plt.figure(figsize=(15,7))\n",
    "plt.plot(predicted_price, color='red', label='predicted')\n",
    "plt.plot(real_price, color='blue', label='real')\n",
    "plt.grid()\n",
    "plt.title('Apple Stock Price Prediction +10')\n",
    "plt.xlabel('Time')\n",
    "plt.ylabel('Apple Stock Price')\n",
    "plt.legend()\n",
    "plt.show()"
   ]
  },
  {
   "cell_type": "code",
   "execution_count": null,
   "metadata": {},
   "outputs": [],
   "source": []
  },
  {
   "cell_type": "code",
   "execution_count": null,
   "metadata": {},
   "outputs": [],
   "source": []
  }
 ],
 "metadata": {
  "kernelspec": {
   "display_name": "Python 3",
   "language": "python",
   "name": "python3"
  },
  "language_info": {
   "codemirror_mode": {
    "name": "ipython",
    "version": 3
   },
   "file_extension": ".py",
   "mimetype": "text/x-python",
   "name": "python",
   "nbconvert_exporter": "python",
   "pygments_lexer": "ipython3",
   "version": "3.7.4"
  }
 },
 "nbformat": 4,
 "nbformat_minor": 2
}
