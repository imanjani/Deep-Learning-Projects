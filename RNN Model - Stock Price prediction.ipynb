{
 "cells": [
  {
   "cell_type": "markdown",
   "metadata": {},
   "source": [
    "## RNN model to predict Google Stock price\n",
    "\n",
    "\n",
    "#### Here i'm building RNN model to predict Google Stock for Jan-2017\n",
    "\n",
    "#### i'm using google stock price from 2012 to 2016 to train my model then i'll compare model prediction with actual stock price  "
   ]
  },
  {
   "cell_type": "code",
   "execution_count": null,
   "metadata": {},
   "outputs": [],
   "source": [
    "# Part 1 - Data Preprocessing\n",
    "\n",
    "# Importing the libraries\n",
    "import numpy as np\n",
    "import matplotlib.pyplot as plt\n",
    "import pandas as pd"
   ]
  },
  {
   "cell_type": "code",
   "execution_count": 2,
   "metadata": {},
   "outputs": [
    {
     "data": {
      "text/html": [
       "<div>\n",
       "<style scoped>\n",
       "    .dataframe tbody tr th:only-of-type {\n",
       "        vertical-align: middle;\n",
       "    }\n",
       "\n",
       "    .dataframe tbody tr th {\n",
       "        vertical-align: top;\n",
       "    }\n",
       "\n",
       "    .dataframe thead th {\n",
       "        text-align: right;\n",
       "    }\n",
       "</style>\n",
       "<table border=\"1\" class=\"dataframe\">\n",
       "  <thead>\n",
       "    <tr style=\"text-align: right;\">\n",
       "      <th></th>\n",
       "      <th>Date</th>\n",
       "      <th>Open</th>\n",
       "      <th>High</th>\n",
       "      <th>Low</th>\n",
       "      <th>Close</th>\n",
       "      <th>Volume</th>\n",
       "    </tr>\n",
       "  </thead>\n",
       "  <tbody>\n",
       "    <tr>\n",
       "      <th>0</th>\n",
       "      <td>2012-01-03</td>\n",
       "      <td>325.25</td>\n",
       "      <td>332.83</td>\n",
       "      <td>324.97</td>\n",
       "      <td>663.59</td>\n",
       "      <td>7,380,500</td>\n",
       "    </tr>\n",
       "    <tr>\n",
       "      <th>1</th>\n",
       "      <td>2012-01-04</td>\n",
       "      <td>331.27</td>\n",
       "      <td>333.87</td>\n",
       "      <td>329.08</td>\n",
       "      <td>666.45</td>\n",
       "      <td>5,749,400</td>\n",
       "    </tr>\n",
       "    <tr>\n",
       "      <th>2</th>\n",
       "      <td>2012-01-05</td>\n",
       "      <td>329.83</td>\n",
       "      <td>330.75</td>\n",
       "      <td>326.89</td>\n",
       "      <td>657.21</td>\n",
       "      <td>6,590,300</td>\n",
       "    </tr>\n",
       "    <tr>\n",
       "      <th>3</th>\n",
       "      <td>2012-01-06</td>\n",
       "      <td>328.34</td>\n",
       "      <td>328.77</td>\n",
       "      <td>323.68</td>\n",
       "      <td>648.24</td>\n",
       "      <td>5,405,900</td>\n",
       "    </tr>\n",
       "    <tr>\n",
       "      <th>4</th>\n",
       "      <td>2012-01-09</td>\n",
       "      <td>322.04</td>\n",
       "      <td>322.29</td>\n",
       "      <td>309.46</td>\n",
       "      <td>620.76</td>\n",
       "      <td>11,688,800</td>\n",
       "    </tr>\n",
       "  </tbody>\n",
       "</table>\n",
       "</div>"
      ],
      "text/plain": [
       "        Date    Open    High     Low   Close      Volume\n",
       "0 2012-01-03  325.25  332.83  324.97  663.59   7,380,500\n",
       "1 2012-01-04  331.27  333.87  329.08  666.45   5,749,400\n",
       "2 2012-01-05  329.83  330.75  326.89  657.21   6,590,300\n",
       "3 2012-01-06  328.34  328.77  323.68  648.24   5,405,900\n",
       "4 2012-01-09  322.04  322.29  309.46  620.76  11,688,800"
      ]
     },
     "execution_count": 2,
     "metadata": {},
     "output_type": "execute_result"
    }
   ],
   "source": [
    "df=pd.read_csv('data/Google_Stock_Price_Train.csv', parse_dates=['Date'])\n",
    "df.head()"
   ]
  },
  {
   "cell_type": "code",
   "execution_count": 3,
   "metadata": {},
   "outputs": [
    {
     "data": {
      "text/plain": [
       "(1258, 1)"
      ]
     },
     "execution_count": 3,
     "metadata": {},
     "output_type": "execute_result"
    }
   ],
   "source": [
    "training_set=df.iloc[:,1:2].values\n",
    "training_set.shape\n"
   ]
  },
  {
   "cell_type": "markdown",
   "metadata": {},
   "source": [
    "\n",
    "\n",
    "![scaling](data/scaling.png)"
   ]
  },
  {
   "cell_type": "code",
   "execution_count": 4,
   "metadata": {},
   "outputs": [
    {
     "data": {
      "text/plain": [
       "(1258, 1)"
      ]
     },
     "execution_count": 4,
     "metadata": {},
     "output_type": "execute_result"
    }
   ],
   "source": [
    "from sklearn.preprocessing import MinMaxScaler\n",
    "sc=MinMaxScaler(feature_range=(0,1)) # not need to add 0 to 1 its the default value\n",
    "\n",
    "training_set_scaled=sc.fit_transform(training_set)\n",
    "training_set_scaled.shape"
   ]
  },
  {
   "cell_type": "code",
   "execution_count": 5,
   "metadata": {},
   "outputs": [
    {
     "data": {
      "text/plain": [
       "((1198, 60), (1198,))"
      ]
     },
     "execution_count": 5,
     "metadata": {},
     "output_type": "execute_result"
    }
   ],
   "source": [
    "# Creating a data structure with 60 timesteps and 1 output\n",
    "X_train = []\n",
    "y_train = []\n",
    "\n",
    "# we look at past 60 days of price \n",
    "\n",
    "# then we create seperate rows include 60 days  of price changes \n",
    "\n",
    "for i in range(60, 1258):\n",
    "    X_train.append(training_set_scaled[i-60:i, 0])\n",
    "    y_train.append(training_set_scaled[i, 0])\n",
    "    \n",
    "    \n",
    "    # x_train and y_train are list so we convert it to numpy array \n",
    "X_train, y_train = np.array(X_train), np.array(y_train)\n",
    "\n",
    "X_train.shape , y_train.shape"
   ]
  },
  {
   "cell_type": "code",
   "execution_count": 6,
   "metadata": {},
   "outputs": [],
   "source": [
    "# if we want to compare past 80 days\n",
    "# X_train = []\n",
    "# y_train = []\n",
    "# for i in range (80, 1258):\n",
    "#     X_train.append(training_set_scaled[i-80:i,0])\n",
    "#     y_train.append(training_set_scaled[i,0])\n",
    "\n",
    "# X_train, y_train = np.array(X_train), np.array(y_train) \n",
    "    \n",
    "# X_train.shape , y_train.shape"
   ]
  },
  {
   "cell_type": "markdown",
   "metadata": {},
   "source": [
    "\n",
    "\n",
    "### keras documentation\n",
    "\n",
    "- RNN needs 3D array\n",
    "\n",
    "- 3D tensor with shape (batch_size, timesteps, input_dim).\n",
    "\n",
    "- here batch_size is stock price that we have\n",
    "- timesteps is 60 days \n",
    "\n",
    "- and input_dim we can add the other stock price if we belive the are highly correlated\n",
    "    - like stock of apple and samsung"
   ]
  },
  {
   "cell_type": "code",
   "execution_count": 7,
   "metadata": {},
   "outputs": [
    {
     "data": {
      "text/plain": [
       "(1198, 60, 1)"
      ]
     },
     "execution_count": 7,
     "metadata": {},
     "output_type": "execute_result"
    }
   ],
   "source": [
    "# now have only one indicator (popen price ) however we can add more indicator we reshpae function\n",
    "\n",
    "\n",
    "\n",
    "# Reshaping\n",
    "X_train = np.reshape(X_train, (X_train.shape[0], X_train.shape[1], 1))\n",
    "X_train.shape\n",
    "\n",
    "# # or \n",
    "# X_train = np.reshape(X_train,(1198,60,1))\n",
    "# X_train.shape"
   ]
  },
  {
   "cell_type": "code",
   "execution_count": 8,
   "metadata": {},
   "outputs": [
    {
     "name": "stderr",
     "output_type": "stream",
     "text": [
      "Using TensorFlow backend.\n"
     ]
    }
   ],
   "source": [
    "# Part 2 - Building the RNN\n",
    "\n",
    "# Importing the Keras libraries and packages\n",
    "from keras.models import Sequential\n",
    "from keras.layers import Dense\n",
    "from keras.layers import LSTM\n",
    "from keras.layers import Dropout"
   ]
  },
  {
   "cell_type": "code",
   "execution_count": 9,
   "metadata": {},
   "outputs": [],
   "source": [
    "\n",
    "# Initialising the RNN\n",
    "regressor = Sequential()"
   ]
  },
  {
   "cell_type": "code",
   "execution_count": 10,
   "metadata": {},
   "outputs": [],
   "source": [
    "# Adding the first LSTM layer and some Dropout regularisation\n",
    "\n",
    "# 3 arguments for LSTM , \n",
    "\n",
    "        # numer of unit  : number of nuerals you need in model ==>  larg number of nuerans is good\n",
    "    \n",
    "        \n",
    "        # return sequences=True should be true to add more layers\n",
    "                # if we dont add default value is False (usually on the last layers)\n",
    "        \n",
    "        \n",
    "        # input shape is the shape of input that we have on training \n",
    "                    # note for input we dont add all 3 by default the first one number of observation (batch)\n",
    "                    # is included in model\n",
    "        \n",
    "regressor.add(LSTM(units=50 ,return_sequences=True , input_shape=(X_train.shape[1], 1)))\n",
    "regressor.add(Dropout(rate=0.2))  # dropout is lost some learned weight to avoid overfitting"
   ]
  },
  {
   "cell_type": "code",
   "execution_count": 12,
   "metadata": {},
   "outputs": [],
   "source": [
    "# adding second layer\n",
    "\n",
    "# like ANN model we dont need input_dim for second layer becasue model already know what is input from previous layer\n",
    "\n",
    "regressor.add(LSTM(units=50 ,return_sequences=True))\n",
    "regressor.add(Dropout(rate=0.2))  # dropout is lost some learned weight to avoid overfitting\n",
    "\n"
   ]
  },
  {
   "cell_type": "code",
   "execution_count": 13,
   "metadata": {},
   "outputs": [],
   "source": [
    "\n",
    "# Adding a third LSTM layer and some Dropout regularisation\n",
    "regressor.add(LSTM(units = 50, return_sequences = True))\n",
    "regressor.add(Dropout(0.2))\n"
   ]
  },
  {
   "cell_type": "code",
   "execution_count": 14,
   "metadata": {},
   "outputs": [],
   "source": [
    "# as mentioned above return_sequences=Fasle for the last layer becasue we dont need too stack another layer\n",
    "\n",
    "# Adding a fourth LSTM layer and some Dropout regularisation\n",
    "regressor.add(LSTM(units = 50))\n",
    "regressor.add(Dropout(0.2))\n"
   ]
  },
  {
   "cell_type": "code",
   "execution_count": 16,
   "metadata": {},
   "outputs": [],
   "source": [
    "\n",
    "# adding output layer\n",
    "\n",
    "# units because we want to get the stock pricce so its is one \n",
    "\n",
    "regressor.add(Dense(units=1))"
   ]
  },
  {
   "cell_type": "code",
   "execution_count": 17,
   "metadata": {},
   "outputs": [],
   "source": [
    "# in keras RSMprop is recommenred  but we use this one check optimizer on keras documentation\n",
    "\n",
    "# losss here is not binary classification becasue we are predicting continus values we need to to use MSE\n",
    "\n",
    "regressor.compile(optimizer='adam', loss='mean_squared_error')"
   ]
  },
  {
   "cell_type": "code",
   "execution_count": 18,
   "metadata": {},
   "outputs": [
    {
     "name": "stdout",
     "output_type": "stream",
     "text": [
      "_________________________________________________________________\n",
      "Layer (type)                 Output Shape              Param #   \n",
      "=================================================================\n",
      "lstm_1 (LSTM)                (None, 60, 50)            10400     \n",
      "_________________________________________________________________\n",
      "dropout_1 (Dropout)          (None, 60, 50)            0         \n",
      "_________________________________________________________________\n",
      "lstm_2 (LSTM)                (None, 60, 50)            20200     \n",
      "_________________________________________________________________\n",
      "dropout_2 (Dropout)          (None, 60, 50)            0         \n",
      "_________________________________________________________________\n",
      "lstm_3 (LSTM)                (None, 60, 50)            20200     \n",
      "_________________________________________________________________\n",
      "dropout_3 (Dropout)          (None, 60, 50)            0         \n",
      "_________________________________________________________________\n",
      "lstm_4 (LSTM)                (None, 50)                20200     \n",
      "_________________________________________________________________\n",
      "dropout_4 (Dropout)          (None, 50)                0         \n",
      "_________________________________________________________________\n",
      "dense_1 (Dense)              (None, 1)                 51        \n",
      "=================================================================\n",
      "Total params: 71,051\n",
      "Trainable params: 71,051\n",
      "Non-trainable params: 0\n",
      "_________________________________________________________________\n"
     ]
    }
   ],
   "source": [
    "regressor.summary()"
   ]
  },
  {
   "cell_type": "code",
   "execution_count": 20,
   "metadata": {},
   "outputs": [
    {
     "name": "stdout",
     "output_type": "stream",
     "text": [
      "Epoch 1/150\n",
      "1198/1198 [==============================] - 14s 12ms/step - loss: 0.0052\n",
      "Epoch 2/150\n",
      "1198/1198 [==============================] - 14s 11ms/step - loss: 0.0056\n",
      "Epoch 3/150\n",
      "1198/1198 [==============================] - 14s 11ms/step - loss: 0.0046\n",
      "Epoch 4/150\n",
      "1198/1198 [==============================] - 14s 11ms/step - loss: 0.0041\n",
      "Epoch 5/150\n",
      "1198/1198 [==============================] - 14s 11ms/step - loss: 0.0042\n",
      "Epoch 6/150\n",
      "1198/1198 [==============================] - 13s 11ms/step - loss: 0.0046\n",
      "Epoch 7/150\n",
      "1198/1198 [==============================] - 14s 11ms/step - loss: 0.0045\n",
      "Epoch 8/150\n",
      "1198/1198 [==============================] - 14s 11ms/step - loss: 0.0041\n",
      "Epoch 9/150\n",
      "1198/1198 [==============================] - 14s 11ms/step - loss: 0.0035\n",
      "Epoch 10/150\n",
      "1198/1198 [==============================] - 13s 11ms/step - loss: 0.0036\n",
      "Epoch 11/150\n",
      "1198/1198 [==============================] - 14s 11ms/step - loss: 0.0038\n",
      "Epoch 12/150\n",
      "1198/1198 [==============================] - 13s 11ms/step - loss: 0.0035\n",
      "Epoch 13/150\n",
      "1198/1198 [==============================] - 14s 11ms/step - loss: 0.0034\n",
      "Epoch 14/150\n",
      "1198/1198 [==============================] - 14s 11ms/step - loss: 0.0033\n",
      "Epoch 15/150\n",
      "1198/1198 [==============================] - 14s 11ms/step - loss: 0.0035\n",
      "Epoch 16/150\n",
      "1198/1198 [==============================] - 13s 11ms/step - loss: 0.0029\n",
      "Epoch 17/150\n",
      "1198/1198 [==============================] - 14s 11ms/step - loss: 0.0037\n",
      "Epoch 18/150\n",
      "1198/1198 [==============================] - 14s 11ms/step - loss: 0.0029\n",
      "Epoch 19/150\n",
      "1198/1198 [==============================] - 14s 11ms/step - loss: 0.0028\n",
      "Epoch 20/150\n",
      "1198/1198 [==============================] - 14s 11ms/step - loss: 0.0025\n",
      "Epoch 21/150\n",
      "1198/1198 [==============================] - 14s 11ms/step - loss: 0.0026\n",
      "Epoch 22/150\n",
      "1198/1198 [==============================] - 14s 11ms/step - loss: 0.0024\n",
      "Epoch 23/150\n",
      "1198/1198 [==============================] - 14s 11ms/step - loss: 0.0026\n",
      "Epoch 24/150\n",
      "1198/1198 [==============================] - 14s 11ms/step - loss: 0.0025\n",
      "Epoch 25/150\n",
      "1198/1198 [==============================] - 14s 11ms/step - loss: 0.0025\n",
      "Epoch 26/150\n",
      "1198/1198 [==============================] - 14s 11ms/step - loss: 0.0026\n",
      "Epoch 27/150\n",
      "1198/1198 [==============================] - 14s 11ms/step - loss: 0.0023\n",
      "Epoch 28/150\n",
      "1198/1198 [==============================] - 14s 11ms/step - loss: 0.0023\n",
      "Epoch 29/150\n",
      "1198/1198 [==============================] - 14s 11ms/step - loss: 0.0023\n",
      "Epoch 30/150\n",
      "1198/1198 [==============================] - 14s 11ms/step - loss: 0.0022\n",
      "Epoch 31/150\n",
      "1198/1198 [==============================] - 14s 11ms/step - loss: 0.0022\n",
      "Epoch 32/150\n",
      "1198/1198 [==============================] - 14s 11ms/step - loss: 0.0024\n",
      "Epoch 33/150\n",
      "1198/1198 [==============================] - 14s 11ms/step - loss: 0.0024\n",
      "Epoch 34/150\n",
      "1198/1198 [==============================] - 14s 11ms/step - loss: 0.0021\n",
      "Epoch 35/150\n",
      "1198/1198 [==============================] - 14s 11ms/step - loss: 0.0021\n",
      "Epoch 36/150\n",
      "1198/1198 [==============================] - 14s 11ms/step - loss: 0.0021\n",
      "Epoch 37/150\n",
      "1198/1198 [==============================] - 14s 11ms/step - loss: 0.0018\n",
      "Epoch 38/150\n",
      "1198/1198 [==============================] - 14s 12ms/step - loss: 0.0019\n",
      "Epoch 39/150\n",
      "1198/1198 [==============================] - 14s 11ms/step - loss: 0.0021\n",
      "Epoch 40/150\n",
      "1198/1198 [==============================] - 14s 11ms/step - loss: 0.0017\n",
      "Epoch 41/150\n",
      "1198/1198 [==============================] - 14s 12ms/step - loss: 0.0018\n",
      "Epoch 42/150\n",
      "1198/1198 [==============================] - 14s 11ms/step - loss: 0.0019\n",
      "Epoch 43/150\n",
      "1198/1198 [==============================] - 14s 11ms/step - loss: 0.0018\n",
      "Epoch 44/150\n",
      "1198/1198 [==============================] - 14s 12ms/step - loss: 0.0017\n",
      "Epoch 45/150\n",
      "1198/1198 [==============================] - 14s 11ms/step - loss: 0.0018\n",
      "Epoch 46/150\n",
      "1198/1198 [==============================] - 14s 11ms/step - loss: 0.0017\n",
      "Epoch 47/150\n",
      "1198/1198 [==============================] - 14s 12ms/step - loss: 0.0016\n",
      "Epoch 48/150\n",
      "1198/1198 [==============================] - 14s 11ms/step - loss: 0.0017\n",
      "Epoch 49/150\n",
      "1198/1198 [==============================] - 14s 11ms/step - loss: 0.0016\n",
      "Epoch 50/150\n",
      "1198/1198 [==============================] - 14s 12ms/step - loss: 0.0017\n",
      "Epoch 51/150\n",
      "1198/1198 [==============================] - 14s 12ms/step - loss: 0.0018\n",
      "Epoch 52/150\n",
      "1198/1198 [==============================] - 14s 11ms/step - loss: 0.0014\n",
      "Epoch 53/150\n",
      "1198/1198 [==============================] - 14s 12ms/step - loss: 0.0013\n",
      "Epoch 54/150\n",
      "1198/1198 [==============================] - 14s 11ms/step - loss: 0.0015\n",
      "Epoch 55/150\n",
      "1198/1198 [==============================] - 14s 12ms/step - loss: 0.0013\n",
      "Epoch 56/150\n",
      "1198/1198 [==============================] - 14s 12ms/step - loss: 0.0015\n",
      "Epoch 57/150\n",
      "1198/1198 [==============================] - 14s 11ms/step - loss: 0.0014\n",
      "Epoch 58/150\n",
      "1198/1198 [==============================] - 14s 11ms/step - loss: 0.0015\n",
      "Epoch 59/150\n",
      "1198/1198 [==============================] - 14s 12ms/step - loss: 0.0015\n",
      "Epoch 60/150\n",
      "1198/1198 [==============================] - 14s 11ms/step - loss: 0.0017\n",
      "Epoch 61/150\n",
      "1198/1198 [==============================] - 14s 12ms/step - loss: 0.0015\n",
      "Epoch 62/150\n",
      "1198/1198 [==============================] - 14s 11ms/step - loss: 0.0013\n",
      "Epoch 63/150\n",
      "1198/1198 [==============================] - 14s 12ms/step - loss: 0.0015\n",
      "Epoch 64/150\n",
      "1198/1198 [==============================] - 14s 11ms/step - loss: 0.0014\n",
      "Epoch 65/150\n",
      "1198/1198 [==============================] - 14s 11ms/step - loss: 0.0014\n",
      "Epoch 66/150\n",
      "1198/1198 [==============================] - 14s 12ms/step - loss: 0.0016\n",
      "Epoch 67/150\n",
      "1198/1198 [==============================] - 14s 12ms/step - loss: 0.0015\n",
      "Epoch 68/150\n",
      "1198/1198 [==============================] - 14s 12ms/step - loss: 0.0013\n",
      "Epoch 69/150\n",
      "1198/1198 [==============================] - 14s 12ms/step - loss: 0.0013\n",
      "Epoch 70/150\n",
      "1198/1198 [==============================] - 14s 11ms/step - loss: 0.0012\n",
      "Epoch 71/150\n",
      "1198/1198 [==============================] - 14s 12ms/step - loss: 0.0014\n",
      "Epoch 72/150\n",
      "1198/1198 [==============================] - 14s 12ms/step - loss: 0.0013\n",
      "Epoch 73/150\n",
      "1198/1198 [==============================] - 14s 12ms/step - loss: 0.0014\n",
      "Epoch 74/150\n",
      "1198/1198 [==============================] - 14s 12ms/step - loss: 0.0015\n",
      "Epoch 75/150\n",
      "1198/1198 [==============================] - 14s 12ms/step - loss: 0.0013\n",
      "Epoch 76/150\n",
      "1198/1198 [==============================] - 14s 11ms/step - loss: 0.0014\n",
      "Epoch 77/150\n",
      "1198/1198 [==============================] - 14s 12ms/step - loss: 0.0015\n",
      "Epoch 78/150\n",
      "1198/1198 [==============================] - 14s 12ms/step - loss: 0.0013\n",
      "Epoch 79/150\n",
      "1198/1198 [==============================] - 14s 11ms/step - loss: 0.0014\n",
      "Epoch 80/150\n",
      "1198/1198 [==============================] - 14s 12ms/step - loss: 0.0014\n",
      "Epoch 81/150\n",
      "1198/1198 [==============================] - 14s 12ms/step - loss: 0.0015\n",
      "Epoch 82/150\n",
      "1198/1198 [==============================] - 14s 11ms/step - loss: 0.0014\n",
      "Epoch 83/150\n",
      "1198/1198 [==============================] - 14s 12ms/step - loss: 0.0013\n",
      "Epoch 84/150\n",
      "1198/1198 [==============================] - 14s 11ms/step - loss: 0.0014\n",
      "Epoch 85/150\n",
      "1198/1198 [==============================] - 14s 11ms/step - loss: 0.0011\n",
      "Epoch 86/150\n",
      "1198/1198 [==============================] - 14s 12ms/step - loss: 0.0012\n",
      "Epoch 87/150\n",
      "1198/1198 [==============================] - 14s 12ms/step - loss: 0.0012\n",
      "Epoch 88/150\n",
      "1198/1198 [==============================] - 14s 12ms/step - loss: 0.0013\n",
      "Epoch 89/150\n",
      "1198/1198 [==============================] - 14s 12ms/step - loss: 0.0017\n",
      "Epoch 90/150\n",
      "1198/1198 [==============================] - 14s 12ms/step - loss: 0.0014\n",
      "Epoch 91/150\n",
      "1198/1198 [==============================] - 14s 11ms/step - loss: 0.0013\n",
      "Epoch 92/150\n",
      "1198/1198 [==============================] - 14s 11ms/step - loss: 0.0013\n",
      "Epoch 93/150\n",
      "1198/1198 [==============================] - 14s 11ms/step - loss: 0.0011\n",
      "Epoch 94/150\n",
      "1198/1198 [==============================] - 14s 11ms/step - loss: 0.0013\n",
      "Epoch 95/150\n"
     ]
    },
    {
     "name": "stdout",
     "output_type": "stream",
     "text": [
      "1198/1198 [==============================] - 14s 11ms/step - loss: 0.0012\n",
      "Epoch 96/150\n",
      "1198/1198 [==============================] - 14s 11ms/step - loss: 0.0012\n",
      "Epoch 97/150\n",
      "1198/1198 [==============================] - 13s 11ms/step - loss: 0.0013\n",
      "Epoch 98/150\n",
      "1198/1198 [==============================] - 14s 11ms/step - loss: 0.0011\n",
      "Epoch 99/150\n",
      "1198/1198 [==============================] - 13s 11ms/step - loss: 0.0011\n",
      "Epoch 100/150\n",
      "1198/1198 [==============================] - 13s 11ms/step - loss: 0.0013\n",
      "Epoch 101/150\n",
      "1198/1198 [==============================] - 14s 11ms/step - loss: 0.0012\n",
      "Epoch 102/150\n",
      "1198/1198 [==============================] - 14s 11ms/step - loss: 0.0012\n",
      "Epoch 103/150\n",
      "1198/1198 [==============================] - 14s 11ms/step - loss: 0.0012\n",
      "Epoch 104/150\n",
      "1198/1198 [==============================] - 13s 11ms/step - loss: 0.0011\n",
      "Epoch 105/150\n",
      "1198/1198 [==============================] - 14s 11ms/step - loss: 0.0011\n",
      "Epoch 106/150\n",
      "1198/1198 [==============================] - 14s 11ms/step - loss: 0.0012\n",
      "Epoch 107/150\n",
      "1198/1198 [==============================] - 14s 11ms/step - loss: 0.0011\n",
      "Epoch 108/150\n",
      "1198/1198 [==============================] - 14s 11ms/step - loss: 0.0012\n",
      "Epoch 109/150\n",
      "1198/1198 [==============================] - 14s 11ms/step - loss: 0.0011\n",
      "Epoch 110/150\n",
      "1198/1198 [==============================] - 14s 11ms/step - loss: 0.0011\n",
      "Epoch 111/150\n",
      "1198/1198 [==============================] - 14s 11ms/step - loss: 0.0012\n",
      "Epoch 112/150\n",
      "1198/1198 [==============================] - 14s 11ms/step - loss: 0.0011\n",
      "Epoch 113/150\n",
      "1198/1198 [==============================] - 14s 11ms/step - loss: 0.0011\n",
      "Epoch 114/150\n",
      "1198/1198 [==============================] - 14s 11ms/step - loss: 0.0011\n",
      "Epoch 115/150\n",
      "1198/1198 [==============================] - 14s 11ms/step - loss: 0.0013\n",
      "Epoch 116/150\n",
      "1198/1198 [==============================] - 14s 11ms/step - loss: 0.0011\n",
      "Epoch 117/150\n",
      "1198/1198 [==============================] - 14s 11ms/step - loss: 0.0011\n",
      "Epoch 118/150\n",
      "1198/1198 [==============================] - 14s 11ms/step - loss: 0.0012\n",
      "Epoch 119/150\n",
      "1198/1198 [==============================] - 14s 11ms/step - loss: 0.0011\n",
      "Epoch 120/150\n",
      "1198/1198 [==============================] - 14s 11ms/step - loss: 0.0011\n",
      "Epoch 121/150\n",
      "1198/1198 [==============================] - 14s 11ms/step - loss: 0.0012\n",
      "Epoch 122/150\n",
      "1198/1198 [==============================] - 14s 11ms/step - loss: 0.0011\n",
      "Epoch 123/150\n",
      "1198/1198 [==============================] - 14s 11ms/step - loss: 0.0012\n",
      "Epoch 124/150\n",
      "1198/1198 [==============================] - 14s 11ms/step - loss: 0.0010\n",
      "Epoch 125/150\n",
      "1198/1198 [==============================] - 14s 11ms/step - loss: 0.0012\n",
      "Epoch 126/150\n",
      "1198/1198 [==============================] - 14s 11ms/step - loss: 0.0013\n",
      "Epoch 127/150\n",
      "1198/1198 [==============================] - 14s 11ms/step - loss: 0.0012\n",
      "Epoch 128/150\n",
      "1198/1198 [==============================] - 14s 11ms/step - loss: 0.0011\n",
      "Epoch 129/150\n",
      "1198/1198 [==============================] - 14s 11ms/step - loss: 0.0011\n",
      "Epoch 130/150\n",
      "1198/1198 [==============================] - 14s 11ms/step - loss: 0.0011\n",
      "Epoch 131/150\n",
      "1198/1198 [==============================] - 14s 11ms/step - loss: 0.0010\n",
      "Epoch 132/150\n",
      "1198/1198 [==============================] - 14s 11ms/step - loss: 0.0010\n",
      "Epoch 133/150\n",
      "1198/1198 [==============================] - 14s 11ms/step - loss: 0.0011\n",
      "Epoch 134/150\n",
      "1198/1198 [==============================] - 14s 12ms/step - loss: 0.0010\n",
      "Epoch 135/150\n",
      "1198/1198 [==============================] - 14s 12ms/step - loss: 0.0012\n",
      "Epoch 136/150\n",
      "1198/1198 [==============================] - 14s 11ms/step - loss: 0.0012\n",
      "Epoch 137/150\n",
      "1198/1198 [==============================] - 14s 11ms/step - loss: 0.0011\n",
      "Epoch 138/150\n",
      "1198/1198 [==============================] - 14s 11ms/step - loss: 0.0013\n",
      "Epoch 139/150\n",
      "1198/1198 [==============================] - 14s 12ms/step - loss: 0.0010\n",
      "Epoch 140/150\n",
      "1198/1198 [==============================] - 14s 11ms/step - loss: 9.9555e-04\n",
      "Epoch 141/150\n",
      "1198/1198 [==============================] - 14s 11ms/step - loss: 0.0010\n",
      "Epoch 142/150\n",
      "1198/1198 [==============================] - 14s 12ms/step - loss: 0.0011\n",
      "Epoch 143/150\n",
      "1198/1198 [==============================] - 14s 12ms/step - loss: 0.0011\n",
      "Epoch 144/150\n",
      "1198/1198 [==============================] - 14s 12ms/step - loss: 0.0010\n",
      "Epoch 145/150\n",
      "1198/1198 [==============================] - 14s 12ms/step - loss: 0.0010\n",
      "Epoch 146/150\n",
      "1198/1198 [==============================] - 14s 11ms/step - loss: 0.0011\n",
      "Epoch 147/150\n",
      "1198/1198 [==============================] - 14s 11ms/step - loss: 0.0011\n",
      "Epoch 148/150\n",
      "1198/1198 [==============================] - 14s 11ms/step - loss: 0.0011\n",
      "Epoch 149/150\n",
      "1198/1198 [==============================] - 14s 11ms/step - loss: 0.0011\n",
      "Epoch 150/150\n",
      "1198/1198 [==============================] - 14s 12ms/step - loss: 0.0011\n"
     ]
    },
    {
     "data": {
      "text/plain": [
       "<keras.callbacks.History at 0x1299314e0>"
      ]
     },
     "execution_count": 20,
     "metadata": {},
     "output_type": "execute_result"
    }
   ],
   "source": [
    "# Fitting the RNN to the Training set\n",
    "\n",
    "# batch_size is number of observation to check each time and then backprobagated (batsize for eact input)\n",
    "regressor.fit(X_train , y_train , epochs=150 , batch_size=15)"
   ]
  },
  {
   "cell_type": "code",
   "execution_count": 23,
   "metadata": {},
   "outputs": [
    {
     "name": "stdout",
     "output_type": "stream",
     "text": [
      "(20, 6)\n"
     ]
    },
    {
     "data": {
      "text/html": [
       "<div>\n",
       "<style scoped>\n",
       "    .dataframe tbody tr th:only-of-type {\n",
       "        vertical-align: middle;\n",
       "    }\n",
       "\n",
       "    .dataframe tbody tr th {\n",
       "        vertical-align: top;\n",
       "    }\n",
       "\n",
       "    .dataframe thead th {\n",
       "        text-align: right;\n",
       "    }\n",
       "</style>\n",
       "<table border=\"1\" class=\"dataframe\">\n",
       "  <thead>\n",
       "    <tr style=\"text-align: right;\">\n",
       "      <th></th>\n",
       "      <th>Date</th>\n",
       "      <th>Open</th>\n",
       "      <th>High</th>\n",
       "      <th>Low</th>\n",
       "      <th>Close</th>\n",
       "      <th>Volume</th>\n",
       "    </tr>\n",
       "  </thead>\n",
       "  <tbody>\n",
       "    <tr>\n",
       "      <th>0</th>\n",
       "      <td>1/3/2017</td>\n",
       "      <td>778.81</td>\n",
       "      <td>789.63</td>\n",
       "      <td>775.80</td>\n",
       "      <td>786.14</td>\n",
       "      <td>1,657,300</td>\n",
       "    </tr>\n",
       "    <tr>\n",
       "      <th>1</th>\n",
       "      <td>1/4/2017</td>\n",
       "      <td>788.36</td>\n",
       "      <td>791.34</td>\n",
       "      <td>783.16</td>\n",
       "      <td>786.90</td>\n",
       "      <td>1,073,000</td>\n",
       "    </tr>\n",
       "    <tr>\n",
       "      <th>2</th>\n",
       "      <td>1/5/2017</td>\n",
       "      <td>786.08</td>\n",
       "      <td>794.48</td>\n",
       "      <td>785.02</td>\n",
       "      <td>794.02</td>\n",
       "      <td>1,335,200</td>\n",
       "    </tr>\n",
       "    <tr>\n",
       "      <th>3</th>\n",
       "      <td>1/6/2017</td>\n",
       "      <td>795.26</td>\n",
       "      <td>807.90</td>\n",
       "      <td>792.20</td>\n",
       "      <td>806.15</td>\n",
       "      <td>1,640,200</td>\n",
       "    </tr>\n",
       "    <tr>\n",
       "      <th>4</th>\n",
       "      <td>1/9/2017</td>\n",
       "      <td>806.40</td>\n",
       "      <td>809.97</td>\n",
       "      <td>802.83</td>\n",
       "      <td>806.65</td>\n",
       "      <td>1,272,400</td>\n",
       "    </tr>\n",
       "  </tbody>\n",
       "</table>\n",
       "</div>"
      ],
      "text/plain": [
       "       Date    Open    High     Low   Close     Volume\n",
       "0  1/3/2017  778.81  789.63  775.80  786.14  1,657,300\n",
       "1  1/4/2017  788.36  791.34  783.16  786.90  1,073,000\n",
       "2  1/5/2017  786.08  794.48  785.02  794.02  1,335,200\n",
       "3  1/6/2017  795.26  807.90  792.20  806.15  1,640,200\n",
       "4  1/9/2017  806.40  809.97  802.83  806.65  1,272,400"
      ]
     },
     "execution_count": 23,
     "metadata": {},
     "output_type": "execute_result"
    }
   ],
   "source": [
    "# Part 3 - Making the predictions and visualising the results\n",
    "\n",
    "# test file has only 20 days of stock price\n",
    "\n",
    "dataset_test= pd.read_csv('data/Google_Stock_Price_Test.csv')\n",
    "\n",
    "print (dataset_test.shape)\n",
    "\n",
    "testing_set= dataset_test.iloc[:,1:2].values\n",
    "\n",
    "dataset_test.head()"
   ]
  },
  {
   "cell_type": "code",
   "execution_count": 122,
   "metadata": {
    "scrolled": false
   },
   "outputs": [
    {
     "name": "stdout",
     "output_type": "stream",
     "text": [
      "(1278,)\n"
     ]
    },
    {
     "data": {
      "text/plain": [
       "0    325.25\n",
       "1    331.27\n",
       "2    329.83\n",
       "3    328.34\n",
       "4    322.04\n",
       "Name: Open, dtype: float64"
      ]
     },
     "execution_count": 122,
     "metadata": {},
     "output_type": "execute_result"
    }
   ],
   "source": [
    "# Getting the predicted stock price of 2017\n",
    "\n",
    "# for prediction we need last 60 days of stock price\n",
    "\n",
    "complete_dataset=pd.concat((df['Open'], dataset_test['Open']), axis=0)  # now we have all stock price including 2017\n",
    "\n",
    "print (complete_dataset.shape)\n",
    "\n",
    "complete_dataset.head()\n"
   ]
  },
  {
   "cell_type": "code",
   "execution_count": 132,
   "metadata": {},
   "outputs": [
    {
     "name": "stdout",
     "output_type": "stream",
     "text": [
      "(80,)\n",
      "(80, 1)\n"
     ]
    }
   ],
   "source": [
    "\n",
    "# we need last 60 \n",
    "\n",
    "#inputs= complete_dataset.tail(60)\n",
    "\n",
    "#or\n",
    "\n",
    "\n",
    "\n",
    "#complete_dataset[-60:]\n",
    "\n",
    "inputs=complete_dataset[len(complete_dataset)-len(testing_set)-60:].values\n",
    "\n",
    "print (inputs.shape)\n",
    "\n",
    "\n",
    "# change the shape to array 60,1\n",
    "\n",
    "inputs = inputs.reshape(-1,1)\n",
    "\n",
    "\n",
    "\n",
    "# now we need to scale these inputs\n",
    "\n",
    "inputs = sc.transform(inputs)\n",
    "print (inputs.shape)\n"
   ]
  },
  {
   "cell_type": "code",
   "execution_count": 133,
   "metadata": {},
   "outputs": [
    {
     "data": {
      "text/plain": [
       "(20, 60)"
      ]
     },
     "execution_count": 133,
     "metadata": {},
     "output_type": "execute_result"
    }
   ],
   "source": [
    "# now we use the same loop to get the last 60 data but we dont need y becasue we predict it\n",
    "X_test=[]\n",
    "\n",
    "\n",
    "for i in range(60,80):\n",
    "    X_test.append(inputs[i-60:i,0])\n",
    " \n",
    "X_test =np.array(X_test)\n",
    "X_test.shape"
   ]
  },
  {
   "cell_type": "code",
   "execution_count": 134,
   "metadata": {},
   "outputs": [
    {
     "data": {
      "text/plain": [
       "(20, 60, 1)"
      ]
     },
     "execution_count": 134,
     "metadata": {},
     "output_type": "execute_result"
    }
   ],
   "source": [
    "# we add more dimensions 3D \n",
    "\n",
    "X_test=np.reshape(X_test, (X_test.shape[0], X_test.shape[1], 1))\n",
    "\n",
    "X_test.shape"
   ]
  },
  {
   "cell_type": "code",
   "execution_count": 135,
   "metadata": {},
   "outputs": [],
   "source": [
    "# make prediction we\\ith model\n",
    "\n",
    "Stock_price_predciton=regressor.predict(X_test)\n",
    "\n",
    "Stock_price_predciton=sc.inverse_transform(Stock_price_predciton)"
   ]
  },
  {
   "cell_type": "code",
   "execution_count": 136,
   "metadata": {},
   "outputs": [
    {
     "data": {
      "image/png": "[encoded data removed]",
      "text/plain": [
       "<Figure size 864x648 with 1 Axes>"
      ]
     },
     "metadata": {
      "needs_background": "light"
     },
     "output_type": "display_data"
    }
   ],
   "source": [
    "#Visualising the results\n",
    "plt.figure(figsize=(12,9))\n",
    "plt.plot(testing_set, color = 'red', label = 'Real Google Stock Price')\n",
    "plt.plot(Stock_price_predciton, color = 'blue', label = 'Predicted Google Stock Price')\n",
    "plt.grid()\n",
    "plt.title('Google Stock Price Prediction')\n",
    "plt.xlabel('Time')\n",
    "plt.ylabel('Google Stock Price')\n",
    "plt.legend()\n",
    "plt.show()"
   ]
  },
  {
   "cell_type": "code",
   "execution_count": null,
   "metadata": {},
   "outputs": [],
   "source": []
  }
 ],
 "metadata": {
  "kernelspec": {
   "display_name": "Python 3",
   "language": "python",
   "name": "python3"
  },
  "language_info": {
   "codemirror_mode": {
    "name": "ipython",
    "version": 3
   },
   "file_extension": ".py",
   "mimetype": "text/x-python",
   "name": "python",
   "nbconvert_exporter": "python",
   "pygments_lexer": "ipython3",
   "version": "3.6.6"
  }
 },
 "nbformat": 4,
 "nbformat_minor": 2
}
