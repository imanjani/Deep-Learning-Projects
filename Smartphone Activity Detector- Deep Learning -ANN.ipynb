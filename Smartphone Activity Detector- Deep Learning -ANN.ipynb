{
 "cells": [
  {
   "cell_type": "markdown",
   "metadata": {},
   "source": [
    "# Deep Learning Smartphone Activity Detector\n",
    "http://archive.ics.uci.edu/ml/datasets/Smartphone-Based+Recognition+of+Human+Activities+and+Postural+Transitions"
   ]
  },
  {
   "cell_type": "markdown",
   "metadata": {},
   "source": [
    "Data Set Information:\n",
    "\n",
    "The experiments were carried out with a group of 30 volunteers within an age bracket of 19-48 years. They performed a protocol of activities composed of six basic activities: three static postures (standing, sitting, lying) and three dynamic activities (walking, walking downstairs and walking upstairs). The experiment also included postural transitions that occurred between the static postures. These are: stand-to-sit, sit-to-stand, sit-to-lie, lie-to-sit, stand-to-lie, and lie-to-stand. All the participants were wearing a smartphone (Samsung Galaxy S II) on the waist during the experiment execution. We captured 3-axial linear acceleration and 3-axial angular velocity at a constant rate of 50Hz using the embedded accelerometer and gyroscope of the device. The experiments were video-recorded to label the data manually. The obtained dataset was randomly partitioned into two sets, where 70% of the volunteers was selected for generating the training data and 30% the test data. \n",
    "\n",
    "The sensor signals (accelerometer and gyroscope) were pre-processed by applying noise filters and then sampled in fixed-width sliding windows of 2.56 sec and 50% overlap (128 readings/window). The sensor acceleration signal, which has gravitational and body motion components, was separated using a Butterworth low-pass filter into body acceleration and gravity. The gravitational force is assumed to have only low frequency components, therefore a filter with 0.3 Hz cutoff frequency was used. From each window, a vector of 561 features was obtained by calculating variables from the time and frequency domain. See 'features_info.txt' for more details. \n",
    "\n",
    "This dataset is an updated version of the UCI Human Activity Recognition Using smartphones Dataset that can be found at: [Web Link] \n",
    "This version provides the original raw inertial signals from the smartphone sensors, instead of the ones pre-processed into windows which were provided in version 1. This change was done in order to be able to make online tests with the raw data. Moreover, the activity labels were updated in order to include postural transitions that were not part of the previous version of the dataset. \n",
    "\n",
    "\n",
    "Attribute Information:\n",
    "\n",
    "The dataset is then divided in two parts and they can be used separately. \n",
    "\n",
    "1. Inertial sensor data \n",
    "- Raw triaxial signals from the accelerometer and gyroscope of all the trials with with participants. \n",
    "- The labels of all the performed activities. \n",
    "\n",
    "2. Records of activity windows. Each one composed of: \n",
    "- A 561-feature vector with time and frequency domain variables. \n",
    "- Its associated activity label. \n",
    "- An identifier of the subject who carried out the experiment. "
   ]
  },
  {
   "cell_type": "markdown",
   "metadata": {},
   "source": [
    "# Objective\n",
    "\n",
    "Predict human activity using smartphone sensor data"
   ]
  },
  {
   "cell_type": "code",
   "execution_count": 129,
   "metadata": {},
   "outputs": [],
   "source": [
    "# Importing the libraries\n",
    "import numpy as np\n",
    "import pandas as pd\n",
    "import seaborn as sns\n",
    "from pandas.api.types import is_string_dtype, is_numeric_dtype\n",
    "\n",
    "import matplotlib.pyplot as plt\n",
    "%matplotlib inline\n",
    "\n"
   ]
  },
  {
   "cell_type": "code",
   "execution_count": 130,
   "metadata": {},
   "outputs": [],
   "source": [
    "X_train=pd.read_csv('data/Train/X_train.txt', delimiter=' ' , skiprows=1 , header=None)\n",
    "X_test=pd.read_csv('data/Test/X_test.txt', delimiter=' ' , skiprows=1 , header=None)\n",
    "\n",
    "y_train=pd.read_csv('data/Train/y_train.txt', delimiter=' ' , skiprows=1 , header=None)\n",
    "y_test=pd.read_csv('data/Test/y_test.txt', delimiter=' ' , skiprows=1 , header=None)"
   ]
  },
  {
   "cell_type": "markdown",
   "metadata": {},
   "source": [
    "* 1 WALKING           \n",
    "* 2 WALKING_UPSTAIRS  \n",
    "* 3 WALKING_DOWNSTAIRS\n",
    "* 4 SITTING           \n",
    "* 5 STANDING          \n",
    "* 6 LAYING            \n",
    "* 7 STAND_TO_SIT      \n",
    "* 8 SIT_TO_STAND      \n",
    "* 9 SIT_TO_LIE        \n",
    "* 10 LIE_TO_SIT        \n",
    "* 11 STAND_TO_LIE      \n",
    "* 12 LIE_TO_STAND    "
   ]
  },
  {
   "cell_type": "code",
   "execution_count": 131,
   "metadata": {},
   "outputs": [
    {
     "data": {
      "text/plain": [
       "(7766, 561)"
      ]
     },
     "execution_count": 131,
     "metadata": {},
     "output_type": "execute_result"
    }
   ],
   "source": [
    "X_train.shape"
   ]
  },
  {
   "cell_type": "code",
   "execution_count": 132,
   "metadata": {},
   "outputs": [
    {
     "data": {
      "text/plain": [
       "array([ 5,  7,  4,  8, 11,  6, 10,  9, 12,  1,  3,  2])"
      ]
     },
     "execution_count": 132,
     "metadata": {},
     "output_type": "execute_result"
    }
   ],
   "source": [
    "# output dimensions for y as it shows above\n",
    "y_train[0].unique()"
   ]
  },
  {
   "cell_type": "code",
   "execution_count": 133,
   "metadata": {},
   "outputs": [
    {
     "name": "stdout",
     "output_type": "stream",
     "text": [
      "X dimension : 561 --possible outcomes : 0    12\n",
      "dtype: int64\n"
     ]
    }
   ],
   "source": [
    "# input dimension for ANN\n",
    "\n",
    "print ('X dimension :', X_train.shape[1] ,'--possible outcomes :', y_train.nunique())\n"
   ]
  },
  {
   "cell_type": "code",
   "execution_count": 134,
   "metadata": {},
   "outputs": [
    {
     "name": "stdout",
     "output_type": "stream",
     "text": [
      "output dim is 13 as onehotencoded  (7766, 13)\n",
      "_________________________________________________________________\n",
      "Layer (type)                 Output Shape              Param #   \n",
      "=================================================================\n",
      "dense_59 (Dense)             (None, 100)               56200     \n",
      "_________________________________________________________________\n",
      "dropout_41 (Dropout)         (None, 100)               0         \n",
      "_________________________________________________________________\n",
      "dense_60 (Dense)             (None, 100)               10100     \n",
      "_________________________________________________________________\n",
      "dense_61 (Dense)             (None, 13)                1313      \n",
      "=================================================================\n",
      "Total params: 67,613\n",
      "Trainable params: 67,613\n",
      "Non-trainable params: 0\n",
      "_________________________________________________________________\n"
     ]
    },
    {
     "name": "stderr",
     "output_type": "stream",
     "text": [
      "/anaconda/lib/python3.6/site-packages/ipykernel_launcher.py:10: UserWarning: Update your `Dense` call to the Keras 2 API: `Dense(activation=\"relu\", input_dim=561, units=100)`\n",
      "  # Remove the CWD from sys.path while we load stuff.\n",
      "/anaconda/lib/python3.6/site-packages/ipykernel_launcher.py:11: UserWarning: Update your `Dropout` call to the Keras 2 API: `Dropout(rate=0.1)`\n",
      "  # This is added back by InteractiveShellApp.init_path()\n",
      "/anaconda/lib/python3.6/site-packages/ipykernel_launcher.py:12: UserWarning: Update your `Dense` call to the Keras 2 API: `Dense(activation=\"relu\", units=100)`\n",
      "  if sys.path[0] == '':\n",
      "/anaconda/lib/python3.6/site-packages/ipykernel_launcher.py:15: UserWarning: Update your `Dense` call to the Keras 2 API: `Dense(activation=\"softmax\", units=13)`\n",
      "  from ipykernel import kernelapp as app\n"
     ]
    }
   ],
   "source": [
    "from keras.models import Sequential\n",
    "from keras.layers import Dropout,Dense\n",
    "from keras.utils import to_categorical\n",
    "\n",
    "y_train=to_categorical(y_train)\n",
    "y_test=to_categorical(y_test)\n",
    "\n",
    "print ('output dim is 13 as onehotencoded ' ,y_train.shape)\n",
    "Model=Sequential()\n",
    "Model.add(Dense(output_dim=100, activation='relu', input_dim=X_train.shape[1]))\n",
    "Model.add(Dropout(p=0.1))\n",
    "Model.add(Dense(output_dim=100, activation='relu'))\n",
    "#Model.add(Dropout(p=0.1))\n",
    "\n",
    "Model.add(Dense(output_dim=13, activation='softmax'))\n",
    "Model.compile(optimizer='adam',loss=\"mse\", metrics=['accuracy'])\n",
    "\n",
    "Model.summary()"
   ]
  },
  {
   "cell_type": "code",
   "execution_count": 135,
   "metadata": {},
   "outputs": [
    {
     "name": "stdout",
     "output_type": "stream",
     "text": [
      "Epoch 1/100\n",
      "7766/7766 [==============================] - 2s 248us/step - loss: 0.0208 - acc: 0.8062\n",
      "Epoch 2/100\n",
      "7766/7766 [==============================] - 2s 204us/step - loss: 0.0107 - acc: 0.9046\n",
      "Epoch 3/100\n",
      "7766/7766 [==============================] - 2s 231us/step - loss: 0.0085 - acc: 0.9238\n",
      "Epoch 4/100\n",
      "7766/7766 [==============================] - 2s 237us/step - loss: 0.0068 - acc: 0.9397\n",
      "Epoch 5/100\n",
      "7766/7766 [==============================] - 1s 170us/step - loss: 0.0080 - acc: 0.9280\n",
      "Epoch 6/100\n",
      "7766/7766 [==============================] - 1s 142us/step - loss: 0.0064 - acc: 0.9445\n",
      "Epoch 7/100\n",
      "7766/7766 [==============================] - 1s 145us/step - loss: 0.0059 - acc: 0.9481\n",
      "Epoch 8/100\n",
      "7766/7766 [==============================] - 1s 140us/step - loss: 0.0061 - acc: 0.9478\n",
      "Epoch 9/100\n",
      "7766/7766 [==============================] - 1s 140us/step - loss: 0.0054 - acc: 0.9527\n",
      "Epoch 10/100\n",
      "7766/7766 [==============================] - 1s 150us/step - loss: 0.0054 - acc: 0.9534\n",
      "Epoch 11/100\n",
      "7766/7766 [==============================] - 1s 137us/step - loss: 0.0049 - acc: 0.9572\n",
      "Epoch 12/100\n",
      "7766/7766 [==============================] - 1s 137us/step - loss: 0.0048 - acc: 0.9570\n",
      "Epoch 13/100\n",
      "7766/7766 [==============================] - 1s 140us/step - loss: 0.0051 - acc: 0.9554\n",
      "Epoch 14/100\n",
      "7766/7766 [==============================] - 1s 136us/step - loss: 0.0045 - acc: 0.9606\n",
      "Epoch 15/100\n",
      "7766/7766 [==============================] - 1s 141us/step - loss: 0.0050 - acc: 0.9553\n",
      "Epoch 16/100\n",
      "7766/7766 [==============================] - 1s 139us/step - loss: 0.0047 - acc: 0.9601\n",
      "Epoch 17/100\n",
      "7766/7766 [==============================] - 1s 142us/step - loss: 0.0047 - acc: 0.9600\n",
      "Epoch 18/100\n",
      "7766/7766 [==============================] - 1s 137us/step - loss: 0.0041 - acc: 0.9637\n",
      "Epoch 19/100\n",
      "7766/7766 [==============================] - 1s 137us/step - loss: 0.0035 - acc: 0.9708\n",
      "Epoch 20/100\n",
      "7766/7766 [==============================] - 1s 137us/step - loss: 0.0039 - acc: 0.9681\n",
      "Epoch 21/100\n",
      "7766/7766 [==============================] - 1s 138us/step - loss: 0.0043 - acc: 0.9636\n",
      "Epoch 22/100\n",
      "7766/7766 [==============================] - 1s 142us/step - loss: 0.0038 - acc: 0.9668\n",
      "Epoch 23/100\n",
      "7766/7766 [==============================] - 1s 137us/step - loss: 0.0039 - acc: 0.9670\n",
      "Epoch 24/100\n",
      "7766/7766 [==============================] - 1s 137us/step - loss: 0.0037 - acc: 0.9682\n",
      "Epoch 25/100\n",
      "7766/7766 [==============================] - 2s 256us/step - loss: 0.0034 - acc: 0.9695\n",
      "Epoch 26/100\n",
      "7766/7766 [==============================] - 2s 240us/step - loss: 0.0040 - acc: 0.9665\n",
      "Epoch 27/100\n",
      "7766/7766 [==============================] - 2s 237us/step - loss: 0.0040 - acc: 0.9648 0s - loss: 0.0035\n",
      "Epoch 28/100\n",
      "7766/7766 [==============================] - 2s 220us/step - loss: 0.0030 - acc: 0.9746\n",
      "Epoch 29/100\n",
      "7766/7766 [==============================] - 2s 219us/step - loss: 0.0033 - acc: 0.9717\n",
      "Epoch 30/100\n",
      "7766/7766 [==============================] - 2s 205us/step - loss: 0.0034 - acc: 0.9691\n",
      "Epoch 31/100\n",
      "7766/7766 [==============================] - 1s 187us/step - loss: 0.0032 - acc: 0.9723\n",
      "Epoch 32/100\n",
      "7766/7766 [==============================] - 1s 179us/step - loss: 0.0032 - acc: 0.9732\n",
      "Epoch 33/100\n",
      "7766/7766 [==============================] - 1s 185us/step - loss: 0.0035 - acc: 0.9704\n",
      "Epoch 34/100\n",
      "7766/7766 [==============================] - 1s 183us/step - loss: 0.0035 - acc: 0.9709\n",
      "Epoch 35/100\n",
      "7766/7766 [==============================] - 1s 192us/step - loss: 0.0028 - acc: 0.9755\n",
      "Epoch 36/100\n",
      "7766/7766 [==============================] - 1s 191us/step - loss: 0.0031 - acc: 0.9730\n",
      "Epoch 37/100\n",
      "7766/7766 [==============================] - 1s 189us/step - loss: 0.0031 - acc: 0.9733\n",
      "Epoch 38/100\n",
      "7766/7766 [==============================] - 1s 184us/step - loss: 0.0033 - acc: 0.9727\n",
      "Epoch 39/100\n",
      "7766/7766 [==============================] - 1s 179us/step - loss: 0.0026 - acc: 0.9780\n",
      "Epoch 40/100\n",
      "7766/7766 [==============================] - 2s 197us/step - loss: 0.0027 - acc: 0.9767\n",
      "Epoch 41/100\n",
      "7766/7766 [==============================] - 1s 192us/step - loss: 0.0031 - acc: 0.9726\n",
      "Epoch 42/100\n",
      "7766/7766 [==============================] - 1s 188us/step - loss: 0.0028 - acc: 0.9762\n",
      "Epoch 43/100\n",
      "7766/7766 [==============================] - 2s 196us/step - loss: 0.0028 - acc: 0.9749\n",
      "Epoch 44/100\n",
      "7766/7766 [==============================] - 2s 222us/step - loss: 0.0028 - acc: 0.9763ETA: 1s\n",
      "Epoch 45/100\n",
      "7766/7766 [==============================] - 2s 207us/step - loss: 0.0029 - acc: 0.9751\n",
      "Epoch 46/100\n",
      "7766/7766 [==============================] - 1s 189us/step - loss: 0.0028 - acc: 0.9771\n",
      "Epoch 47/100\n",
      "7766/7766 [==============================] - 1s 183us/step - loss: 0.0027 - acc: 0.9784\n",
      "Epoch 48/100\n",
      "7766/7766 [==============================] - 1s 190us/step - loss: 0.0032 - acc: 0.9727\n",
      "Epoch 49/100\n",
      "7766/7766 [==============================] - 1s 190us/step - loss: 0.0028 - acc: 0.9758\n",
      "Epoch 50/100\n",
      "7766/7766 [==============================] - 1s 189us/step - loss: 0.0024 - acc: 0.9800\n",
      "Epoch 51/100\n",
      "7766/7766 [==============================] - 1s 187us/step - loss: 0.0026 - acc: 0.9795\n",
      "Epoch 52/100\n",
      "7766/7766 [==============================] - 1s 192us/step - loss: 0.0029 - acc: 0.9754\n",
      "Epoch 53/100\n",
      "7766/7766 [==============================] - 2s 195us/step - loss: 0.0024 - acc: 0.9791\n",
      "Epoch 54/100\n",
      "7766/7766 [==============================] - 2s 201us/step - loss: 0.0025 - acc: 0.9791\n",
      "Epoch 55/100\n",
      "7766/7766 [==============================] - 2s 237us/step - loss: 0.0031 - acc: 0.9741\n",
      "Epoch 56/100\n",
      "7766/7766 [==============================] - 2s 229us/step - loss: 0.0026 - acc: 0.9770\n",
      "Epoch 57/100\n",
      "7766/7766 [==============================] - 2s 198us/step - loss: 0.0027 - acc: 0.9770\n",
      "Epoch 58/100\n",
      "7766/7766 [==============================] - 2s 198us/step - loss: 0.0023 - acc: 0.9812\n",
      "Epoch 59/100\n",
      "7766/7766 [==============================] - 2s 195us/step - loss: 0.0022 - acc: 0.9813\n",
      "Epoch 60/100\n",
      "7766/7766 [==============================] - 2s 195us/step - loss: 0.0023 - acc: 0.9807\n",
      "Epoch 61/100\n",
      "7766/7766 [==============================] - 2s 204us/step - loss: 0.0029 - acc: 0.9759\n",
      "Epoch 62/100\n",
      "7766/7766 [==============================] - 2s 199us/step - loss: 0.0023 - acc: 0.9811\n",
      "Epoch 63/100\n",
      "7766/7766 [==============================] - 2s 200us/step - loss: 0.0025 - acc: 0.9803\n",
      "Epoch 64/100\n",
      "7766/7766 [==============================] - 2s 220us/step - loss: 0.0028 - acc: 0.9763\n",
      "Epoch 65/100\n",
      "7766/7766 [==============================] - 2s 197us/step - loss: 0.0026 - acc: 0.9781\n",
      "Epoch 66/100\n",
      "7766/7766 [==============================] - 2s 199us/step - loss: 0.0027 - acc: 0.9775\n",
      "Epoch 67/100\n",
      "7766/7766 [==============================] - 2s 201us/step - loss: 0.0022 - acc: 0.9834\n",
      "Epoch 68/100\n",
      "7766/7766 [==============================] - 2s 196us/step - loss: 0.0022 - acc: 0.9812\n",
      "Epoch 69/100\n",
      "7766/7766 [==============================] - 2s 198us/step - loss: 0.0023 - acc: 0.9797\n",
      "Epoch 70/100\n",
      "7766/7766 [==============================] - 2s 198us/step - loss: 0.0023 - acc: 0.9799\n",
      "Epoch 71/100\n",
      "7766/7766 [==============================] - 2s 202us/step - loss: 0.0022 - acc: 0.9816\n",
      "Epoch 72/100\n",
      "7766/7766 [==============================] - 2s 202us/step - loss: 0.0022 - acc: 0.9812\n",
      "Epoch 73/100\n",
      "7766/7766 [==============================] - 2s 204us/step - loss: 0.0023 - acc: 0.9816\n",
      "Epoch 74/100\n",
      "7766/7766 [==============================] - 2s 202us/step - loss: 0.0021 - acc: 0.9826\n",
      "Epoch 75/100\n",
      "7766/7766 [==============================] - 2s 204us/step - loss: 0.0020 - acc: 0.9836\n",
      "Epoch 76/100\n",
      "7766/7766 [==============================] - 2s 199us/step - loss: 0.0022 - acc: 0.9824\n",
      "Epoch 77/100\n",
      "7766/7766 [==============================] - 2s 202us/step - loss: 0.0025 - acc: 0.9795\n",
      "Epoch 78/100\n",
      "7766/7766 [==============================] - 2s 203us/step - loss: 0.0022 - acc: 0.9833\n",
      "Epoch 79/100\n",
      "7766/7766 [==============================] - 2s 203us/step - loss: 0.0019 - acc: 0.9842\n",
      "Epoch 80/100\n",
      "7766/7766 [==============================] - 2s 205us/step - loss: 0.0024 - acc: 0.9803\n",
      "Epoch 81/100\n"
     ]
    },
    {
     "name": "stdout",
     "output_type": "stream",
     "text": [
      "7766/7766 [==============================] - 1s 181us/step - loss: 0.0028 - acc: 0.9776\n",
      "Epoch 82/100\n",
      "7766/7766 [==============================] - 1s 169us/step - loss: 0.0020 - acc: 0.9840\n",
      "Epoch 83/100\n",
      "7766/7766 [==============================] - 1s 189us/step - loss: 0.0022 - acc: 0.9820\n",
      "Epoch 84/100\n",
      "7766/7766 [==============================] - 1s 188us/step - loss: 0.0017 - acc: 0.9854\n",
      "Epoch 85/100\n",
      "7766/7766 [==============================] - 1s 186us/step - loss: 0.0027 - acc: 0.9790\n",
      "Epoch 86/100\n",
      "7766/7766 [==============================] - 1s 183us/step - loss: 0.0022 - acc: 0.9826\n",
      "Epoch 87/100\n",
      "7766/7766 [==============================] - 1s 189us/step - loss: 0.0022 - acc: 0.9821\n",
      "Epoch 88/100\n",
      "7766/7766 [==============================] - 2s 201us/step - loss: 0.0021 - acc: 0.9834\n",
      "Epoch 89/100\n",
      "7766/7766 [==============================] - 2s 212us/step - loss: 0.0019 - acc: 0.9847\n",
      "Epoch 90/100\n",
      "7766/7766 [==============================] - 2s 197us/step - loss: 0.0020 - acc: 0.9839\n",
      "Epoch 91/100\n",
      "7766/7766 [==============================] - 2s 203us/step - loss: 0.0015 - acc: 0.9885\n",
      "Epoch 92/100\n",
      "7766/7766 [==============================] - 2s 196us/step - loss: 0.0021 - acc: 0.9817\n",
      "Epoch 93/100\n",
      "7766/7766 [==============================] - 2s 219us/step - loss: 0.0027 - acc: 0.9786\n",
      "Epoch 94/100\n",
      "7766/7766 [==============================] - 2s 201us/step - loss: 0.0018 - acc: 0.9852\n",
      "Epoch 95/100\n",
      "7766/7766 [==============================] - 2s 196us/step - loss: 0.0020 - acc: 0.9839\n",
      "Epoch 96/100\n",
      "7766/7766 [==============================] - 2s 225us/step - loss: 0.0020 - acc: 0.9842\n",
      "Epoch 97/100\n",
      "7766/7766 [==============================] - 2s 214us/step - loss: 0.0018 - acc: 0.9861\n",
      "Epoch 98/100\n",
      "7766/7766 [==============================] - 1s 190us/step - loss: 0.0026 - acc: 0.9793\n",
      "Epoch 99/100\n",
      "7766/7766 [==============================] - 2s 195us/step - loss: 0.0020 - acc: 0.9830\n",
      "Epoch 100/100\n",
      "7766/7766 [==============================] - 2s 196us/step - loss: 0.0020 - acc: 0.9838\n"
     ]
    },
    {
     "data": {
      "text/plain": [
       "<keras.callbacks.History at 0x13b338710>"
      ]
     },
     "execution_count": 135,
     "metadata": {},
     "output_type": "execute_result"
    }
   ],
   "source": [
    "Model.fit(X_train, y_train,epochs=100 , batch_size=10 ,shuffle=True)"
   ]
  },
  {
   "cell_type": "code",
   "execution_count": 136,
   "metadata": {},
   "outputs": [
    {
     "name": "stdout",
     "output_type": "stream",
     "text": [
      "Loss: 0.00811410962048925, Accuracy: 0.9389433723505219\n"
     ]
    }
   ],
   "source": [
    "# Evaluate the model using the training data \n",
    "Model_loss, Model_accuracy = Model.evaluate(X_test, y_test, verbose=2)\n",
    "print(f\"Loss: {Model_loss}, Accuracy: {Model_accuracy}\")"
   ]
  },
  {
   "cell_type": "code",
   "execution_count": null,
   "metadata": {},
   "outputs": [],
   "source": []
  },
  {
   "cell_type": "code",
   "execution_count": null,
   "metadata": {},
   "outputs": [],
   "source": []
  }
 ],
 "metadata": {
  "kernelspec": {
   "display_name": "Python 3",
   "language": "python",
   "name": "python3"
  },
  "language_info": {
   "codemirror_mode": {
    "name": "ipython",
    "version": 3
   },
   "file_extension": ".py",
   "mimetype": "text/x-python",
   "name": "python",
   "nbconvert_exporter": "python",
   "pygments_lexer": "ipython3",
   "version": "3.6.6"
  }
 },
 "nbformat": 4,
 "nbformat_minor": 2
}
