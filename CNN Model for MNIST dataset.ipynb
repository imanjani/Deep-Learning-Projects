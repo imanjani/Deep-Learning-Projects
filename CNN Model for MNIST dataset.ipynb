{
 "cells": [
  {
   "cell_type": "markdown",
   "metadata": {},
   "source": [
    "# CNN Model for MNIST Handwritten Digit Classification\n",
    "\n",
    "- This is adapted from the tutorial of the MIT AI Research Scientist, Lex Fridman. It is the application of deep learning to make predictions on the MNIST dataset. So, we are to classify images of hand-written digits using Convolutional Neural Network Classifier. We will take one image out of the 70,000 images, at a resolution of 28 by 28 pixels, as input and predict the most likely digit in that image.\n",
    "\n",
    "- So, we make the necessary imports — Tensorflow, Keras, Numpy and those for visualization."
   ]
  },
  {
   "cell_type": "code",
   "execution_count": 17,
   "metadata": {},
   "outputs": [],
   "source": [
    "# Importing the libraries\n",
    "import numpy as np\n",
    "import pandas as pd\n",
    "import matplotlib.pyplot as plt\n"
   ]
  },
  {
   "cell_type": "code",
   "execution_count": 18,
   "metadata": {},
   "outputs": [],
   "source": [
    "# Keras\n",
    "from keras.models import Sequential\n",
    "from keras.utils import to_categorical\n",
    "from keras.layers import Dense\n",
    "from keras.datasets import mnist"
   ]
  },
  {
   "cell_type": "code",
   "execution_count": 19,
   "metadata": {},
   "outputs": [
    {
     "name": "stdout",
     "output_type": "stream",
     "text": [
      "Training Data Info\n",
      "Training Data Shape: (60000, 28, 28)\n",
      "Training Data Labels Shape: (60000,)\n"
     ]
    }
   ],
   "source": [
    "\n",
    "\n",
    "# loading Mnist dataset\n",
    "\n",
    "(X_train, y_train), (X_test, y_test) = mnist.load_data()\n",
    "print(\"Training Data Info\")\n",
    "print(\"Training Data Shape:\", X_train.shape)\n",
    "print(\"Training Data Labels Shape:\", y_train.shape)"
   ]
  },
  {
   "cell_type": "code",
   "execution_count": 20,
   "metadata": {},
   "outputs": [],
   "source": [
    "#  save it to file  on folder keras in train and test\n",
    "\n",
    "X_train.tofile('Keras/Train/X_train')\n",
    "X_test.tofile('Keras/Test/X_test')\n",
    "\n",
    "y_train.tofile('Keras/Test/y_train')\n",
    "y_test.tofile('Keras/Test/y_test')"
   ]
  },
  {
   "cell_type": "code",
   "execution_count": 21,
   "metadata": {},
   "outputs": [
    {
     "data": {
      "text/plain": [
       "<matplotlib.image.AxesImage at 0x132667a90>"
      ]
     },
     "execution_count": 21,
     "metadata": {},
     "output_type": "execute_result"
    },
    {
     "data": {
      "image/png": "[encoded data removed]",
      "text/plain": [
       "<Figure size 432x288 with 1 Axes>"
      ]
     },
     "metadata": {
      "needs_background": "light"
     },
     "output_type": "display_data"
    }
   ],
   "source": [
    "# visualize one digit from dataset\n",
    "\n",
    "plt.imshow(X_train[10,:,:])"
   ]
  },
  {
   "cell_type": "code",
   "execution_count": 22,
   "metadata": {},
   "outputs": [
    {
     "name": "stdout",
     "output_type": "stream",
     "text": [
      "(60000, 28, 28)\n",
      "784\n",
      "Training Shape: (60000, 784)\n",
      "Testing Shape: (10000, 784)\n"
     ]
    }
   ],
   "source": [
    "\n",
    "\n",
    "# mnist images are 28x28 pixels and we need to convert it to 1D array , which mean 1, 784 pixels  (28*28=784)\n",
    "\n",
    "\n",
    "print (X_train.shape)\n",
    "\n",
    "ndims = X_train.shape[1] * X_train.shape[2]\n",
    "print (ndims)\n",
    "\n",
    "\n",
    "\n",
    "# adding \n",
    "X_train = X_train.reshape(X_train.shape[0], ndims)\n",
    "\n",
    "X_test = X_test.reshape(X_test.shape[0], ndims)\n",
    "\n",
    "print(\"Training Shape:\", X_train.shape)\n",
    "print(\"Testing Shape:\", X_test.shape)\n",
    "\n"
   ]
  },
  {
   "cell_type": "code",
   "execution_count": 23,
   "metadata": {},
   "outputs": [
    {
     "name": "stderr",
     "output_type": "stream",
     "text": [
      "/anaconda/lib/python3.6/site-packages/sklearn/utils/validation.py:429: DataConversionWarning: Data with input dtype uint8 was converted to float64 by MinMaxScaler.\n",
      "  warnings.warn(msg, _DataConversionWarning)\n"
     ]
    }
   ],
   "source": [
    "# flatten our data into rows of 1D image arrays\n",
    "# Next, we normalize our training data \n",
    "\n",
    "\n",
    "from sklearn.preprocessing import MinMaxScaler\n",
    "\n",
    "scaler = MinMaxScaler().fit(X_train)\n",
    "\n",
    "X_train = scaler.transform(X_train)\n",
    "X_test = scaler.transform(X_test)"
   ]
  },
  {
   "cell_type": "code",
   "execution_count": 24,
   "metadata": {},
   "outputs": [
    {
     "name": "stdout",
     "output_type": "stream",
     "text": [
      "[5 0 4 ... 5 6 8]\n"
     ]
    },
    {
     "data": {
      "text/plain": [
       "array([[0., 0., 0., ..., 0., 0., 0.],\n",
       "       [1., 0., 0., ..., 0., 0., 0.],\n",
       "       [0., 0., 0., ..., 0., 0., 0.],\n",
       "       ...,\n",
       "       [0., 0., 0., ..., 0., 0., 0.],\n",
       "       [0., 0., 0., ..., 0., 0., 0.],\n",
       "       [0., 0., 0., ..., 0., 1., 0.]], dtype=float32)"
      ]
     },
     "execution_count": 24,
     "metadata": {},
     "output_type": "execute_result"
    }
   ],
   "source": [
    "\n",
    "\n",
    "# convert y to categoriacal \n",
    "\n",
    "from keras.utils import to_categorical\n",
    "\n",
    "print (y_train)\n",
    "\n",
    "y_train = to_categorical(y_train)\n",
    "\n",
    "y_train"
   ]
  },
  {
   "cell_type": "code",
   "execution_count": 25,
   "metadata": {},
   "outputs": [
    {
     "name": "stdout",
     "output_type": "stream",
     "text": [
      "[0. 1. 0. 0. 0. 0. 0. 0. 0. 0.]\n"
     ]
    }
   ],
   "source": [
    "print (y_train[3])\n",
    "\n",
    "\n",
    "# convert y_test to categorical\n",
    "\n",
    "y_test=to_categorical(y_test)"
   ]
  },
  {
   "cell_type": "markdown",
   "metadata": {},
   "source": [
    "# Train ANN model"
   ]
  },
  {
   "cell_type": "code",
   "execution_count": 26,
   "metadata": {},
   "outputs": [],
   "source": [
    "# Importing the Keras libraries and packages\n",
    "from keras.models import Sequential     # making ANN and initialize\n",
    "from keras.layers import Dropout  \n",
    "from keras.layers import Dense  \n"
   ]
  },
  {
   "cell_type": "code",
   "execution_count": 156,
   "metadata": {},
   "outputs": [
    {
     "name": "stdout",
     "output_type": "stream",
     "text": [
      "_________________________________________________________________\n",
      "Layer (type)                 Output Shape              Param #   \n",
      "=================================================================\n",
      "dense_4 (Dense)              (None, 100)               78500     \n",
      "_________________________________________________________________\n",
      "dropout_3 (Dropout)          (None, 100)               0         \n",
      "_________________________________________________________________\n",
      "dense_5 (Dense)              (None, 100)               10100     \n",
      "_________________________________________________________________\n",
      "dropout_4 (Dropout)          (None, 100)               0         \n",
      "_________________________________________________________________\n",
      "dense_6 (Dense)              (None, 10)                1010      \n",
      "=================================================================\n",
      "Total params: 89,610\n",
      "Trainable params: 89,610\n",
      "Non-trainable params: 0\n",
      "_________________________________________________________________\n"
     ]
    },
    {
     "name": "stderr",
     "output_type": "stream",
     "text": [
      "/anaconda/lib/python3.6/site-packages/ipykernel_launcher.py:6: UserWarning: Update your `Dropout` call to the Keras 2 API: `Dropout(rate=0.1)`\n",
      "  \n",
      "/anaconda/lib/python3.6/site-packages/ipykernel_launcher.py:8: UserWarning: Update your `Dropout` call to the Keras 2 API: `Dropout(rate=0.1)`\n",
      "  \n",
      "/anaconda/lib/python3.6/site-packages/ipykernel_launcher.py:9: UserWarning: Update your `Dense` call to the Keras 2 API: `Dense(activation=\"softmax\", units=10)`\n",
      "  if __name__ == '__main__':\n"
     ]
    }
   ],
   "source": [
    "# Add the first layer where the input dimensions are the 784 pixel values\n",
    "\n",
    "\n",
    "model=Sequential()\n",
    "model.add(Dense(100, activation='relu', input_dim=X_train.shape[1]))\n",
    "model.add(Dropout(p=0.1))\n",
    "model.add(Dense(100, activation='relu'))\n",
    "model.add(Dropout(p=0.1))\n",
    "model.add(Dense(output_dim=10, activation ='softmax'))\n",
    "model.compile(optimizer = 'adam', loss = 'categorical_crossentropy', metrics = ['accuracy'])\n",
    "model.summary()"
   ]
  },
  {
   "cell_type": "code",
   "execution_count": 157,
   "metadata": {},
   "outputs": [
    {
     "name": "stdout",
     "output_type": "stream",
     "text": [
      "Epoch 1/50\n",
      "60000/60000 [==============================] - 8s 131us/step - loss: 0.2572 - acc: 0.9240\n",
      "Epoch 2/50\n",
      "60000/60000 [==============================] - 7s 120us/step - loss: 0.1232 - acc: 0.9623\n",
      "Epoch 3/50\n",
      "60000/60000 [==============================] - 7s 118us/step - loss: 0.0974 - acc: 0.9695\n",
      "Epoch 4/50\n",
      "60000/60000 [==============================] - 7s 124us/step - loss: 0.0824 - acc: 0.9750\n",
      "Epoch 5/50\n",
      "60000/60000 [==============================] - 8s 138us/step - loss: 0.0711 - acc: 0.9769\n",
      "Epoch 6/50\n",
      "60000/60000 [==============================] - 8s 140us/step - loss: 0.0657 - acc: 0.9795\n",
      "Epoch 7/50\n",
      "60000/60000 [==============================] - 10s 159us/step - loss: 0.0581 - acc: 0.9815\n",
      "Epoch 8/50\n",
      "60000/60000 [==============================] - 7s 123us/step - loss: 0.0532 - acc: 0.9830\n",
      "Epoch 9/50\n",
      "60000/60000 [==============================] - 6s 108us/step - loss: 0.0489 - acc: 0.9843\n",
      "Epoch 10/50\n",
      "60000/60000 [==============================] - 7s 116us/step - loss: 0.0469 - acc: 0.9854\n",
      "Epoch 11/50\n",
      "60000/60000 [==============================] - 9s 153us/step - loss: 0.0446 - acc: 0.9861\n",
      "Epoch 12/50\n",
      "60000/60000 [==============================] - 9s 144us/step - loss: 0.0429 - acc: 0.9861\n",
      "Epoch 13/50\n",
      "60000/60000 [==============================] - 7s 116us/step - loss: 0.0397 - acc: 0.9874\n",
      "Epoch 14/50\n",
      "60000/60000 [==============================] - 7s 122us/step - loss: 0.0371 - acc: 0.9880\n",
      "Epoch 15/50\n",
      "60000/60000 [==============================] - 7s 123us/step - loss: 0.0392 - acc: 0.9878\n",
      "Epoch 16/50\n",
      "60000/60000 [==============================] - 7s 122us/step - loss: 0.0354 - acc: 0.9887\n",
      "Epoch 17/50\n",
      "60000/60000 [==============================] - 7s 119us/step - loss: 0.0352 - acc: 0.9891\n",
      "Epoch 18/50\n",
      "60000/60000 [==============================] - 7s 111us/step - loss: 0.0358 - acc: 0.9890\n",
      "Epoch 19/50\n",
      "60000/60000 [==============================] - 7s 123us/step - loss: 0.0314 - acc: 0.9900\n",
      "Epoch 20/50\n",
      "60000/60000 [==============================] - 7s 124us/step - loss: 0.0329 - acc: 0.9899\n",
      "Epoch 21/50\n",
      "60000/60000 [==============================] - 9s 157us/step - loss: 0.0344 - acc: 0.9895\n",
      "Epoch 22/50\n",
      "60000/60000 [==============================] - 8s 141us/step - loss: 0.0307 - acc: 0.9906\n",
      "Epoch 23/50\n",
      "60000/60000 [==============================] - 9s 149us/step - loss: 0.0308 - acc: 0.9904\n",
      "Epoch 24/50\n",
      "60000/60000 [==============================] - 7s 123us/step - loss: 0.0304 - acc: 0.9904\n",
      "Epoch 25/50\n",
      "60000/60000 [==============================] - 7s 111us/step - loss: 0.0298 - acc: 0.9911\n",
      "Epoch 26/50\n",
      "60000/60000 [==============================] - 8s 131us/step - loss: 0.0291 - acc: 0.9913\n",
      "Epoch 27/50\n",
      "60000/60000 [==============================] - 8s 139us/step - loss: 0.0275 - acc: 0.9916\n",
      "Epoch 28/50\n",
      "60000/60000 [==============================] - 10s 174us/step - loss: 0.0285 - acc: 0.9916\n",
      "Epoch 29/50\n",
      "60000/60000 [==============================] - 8s 141us/step - loss: 0.0276 - acc: 0.9914 0s - loss: 0.02\n",
      "Epoch 30/50\n",
      "60000/60000 [==============================] - 8s 128us/step - loss: 0.0259 - acc: 0.9923\n",
      "Epoch 31/50\n",
      "60000/60000 [==============================] - 7s 114us/step - loss: 0.0278 - acc: 0.9918\n",
      "Epoch 32/50\n",
      "60000/60000 [==============================] - 7s 112us/step - loss: 0.0245 - acc: 0.9928\n",
      "Epoch 33/50\n",
      "60000/60000 [==============================] - 7s 113us/step - loss: 0.0271 - acc: 0.9917\n",
      "Epoch 34/50\n",
      "60000/60000 [==============================] - 7s 114us/step - loss: 0.0275 - acc: 0.9920\n",
      "Epoch 35/50\n",
      "60000/60000 [==============================] - 7s 114us/step - loss: 0.0282 - acc: 0.9919\n",
      "Epoch 36/50\n",
      "60000/60000 [==============================] - 7s 115us/step - loss: 0.0262 - acc: 0.9928\n",
      "Epoch 37/50\n",
      "60000/60000 [==============================] - 7s 115us/step - loss: 0.0261 - acc: 0.9927\n",
      "Epoch 38/50\n",
      "60000/60000 [==============================] - 7s 118us/step - loss: 0.0269 - acc: 0.9925\n",
      "Epoch 39/50\n",
      "60000/60000 [==============================] - 8s 128us/step - loss: 0.0219 - acc: 0.9931\n",
      "Epoch 40/50\n",
      "60000/60000 [==============================] - 9s 156us/step - loss: 0.0238 - acc: 0.9933\n",
      "Epoch 41/50\n",
      "60000/60000 [==============================] - 7s 121us/step - loss: 0.0245 - acc: 0.9930\n",
      "Epoch 42/50\n",
      "60000/60000 [==============================] - 10s 161us/step - loss: 0.0216 - acc: 0.9934\n",
      "Epoch 43/50\n",
      "60000/60000 [==============================] - 8s 128us/step - loss: 0.0257 - acc: 0.9927\n",
      "Epoch 44/50\n",
      "60000/60000 [==============================] - 7s 118us/step - loss: 0.0217 - acc: 0.9935\n",
      "Epoch 45/50\n",
      "60000/60000 [==============================] - 7s 123us/step - loss: 0.0249 - acc: 0.9932\n",
      "Epoch 46/50\n",
      "60000/60000 [==============================] - 8s 140us/step - loss: 0.0240 - acc: 0.9933\n",
      "Epoch 47/50\n",
      "60000/60000 [==============================] - 8s 137us/step - loss: 0.0251 - acc: 0.9927\n",
      "Epoch 48/50\n",
      "60000/60000 [==============================] - 8s 130us/step - loss: 0.0268 - acc: 0.9927\n",
      "Epoch 49/50\n",
      "60000/60000 [==============================] - 10s 168us/step - loss: 0.0226 - acc: 0.9936\n",
      "Epoch 50/50\n",
      "60000/60000 [==============================] - 8s 134us/step - loss: 0.0245 - acc: 0.9931\n"
     ]
    },
    {
     "data": {
      "text/plain": [
       "<keras.callbacks.History at 0x15263e390>"
      ]
     },
     "execution_count": 157,
     "metadata": {},
     "output_type": "execute_result"
    }
   ],
   "source": [
    "# train model\n",
    "\n",
    "model.fit(X_train,y_train,shuffle=True, epochs=50, batch_size=15)"
   ]
  },
  {
   "cell_type": "code",
   "execution_count": 158,
   "metadata": {},
   "outputs": [
    {
     "name": "stdout",
     "output_type": "stream",
     "text": [
      "10000/10000 [==============================] - 0s 33us/step\n"
     ]
    },
    {
     "data": {
      "text/plain": [
       "[0.11429921004459737, 0.9804999960660934]"
      ]
     },
     "execution_count": 158,
     "metadata": {},
     "output_type": "execute_result"
    }
   ],
   "source": [
    "# evaluate model\n",
    "\n",
    "model.evaluate(X_test , y_test , batch_size=20)"
   ]
  },
  {
   "cell_type": "code",
   "execution_count": 159,
   "metadata": {
    "scrolled": true
   },
   "outputs": [
    {
     "data": {
      "text/plain": [
       "<matplotlib.image.AxesImage at 0x152c5bbe0>"
      ]
     },
     "execution_count": 159,
     "metadata": {},
     "output_type": "execute_result"
    },
    {
     "data": {
      "image/png": "[encoded data removed]",
      "text/plain": [
       "<Figure size 432x288 with 1 Axes>"
      ]
     },
     "metadata": {
      "needs_background": "light"
     },
     "output_type": "display_data"
    }
   ],
   "source": [
    "\n",
    "\n",
    "# check the model\n",
    "from PIL import Image\n",
    "\n",
    "pic=Image.open('../Resource/5.png')\n",
    "\n",
    "plt.imshow(pic)"
   ]
  },
  {
   "cell_type": "code",
   "execution_count": 160,
   "metadata": {},
   "outputs": [
    {
     "name": "stdout",
     "output_type": "stream",
     "text": [
      "(1024, 1024, 4)\n"
     ]
    }
   ],
   "source": [
    "# convert image to array\n",
    "\n",
    "from keras.preprocessing.image import img_to_array\n",
    "\n",
    "\n",
    "Pic=img_to_array(pic)\n",
    "\n",
    "print (Pic.shape)\n"
   ]
  },
  {
   "cell_type": "code",
   "execution_count": 182,
   "metadata": {
    "scrolled": true
   },
   "outputs": [
    {
     "data": {
      "text/plain": [
       "<matplotlib.image.AxesImage at 0x127e48c50>"
      ]
     },
     "execution_count": 182,
     "metadata": {},
     "output_type": "execute_result"
    },
    {
     "data": {
      "image/png": "[encoded data removed]",
      "text/plain": [
       "<Figure size 432x288 with 1 Axes>"
      ]
     },
     "metadata": {
      "needs_background": "light"
     },
     "output_type": "display_data"
    }
   ],
   "source": [
    "\n",
    "\n",
    "# Mnist dataset are 28*28 pixel we need to resize image to 28*28 then convert to array\n",
    "\n",
    "from PIL import Image\n",
    "\n",
    "from resizeimage import resizeimage\n",
    "\n",
    "pic=Image.open('../Resource/5.png')\n",
    "\n",
    "\n",
    "Pic=resizeimage.resize_contain(pic, [28,28])\n",
    "\n",
    "\n",
    "plt.imshow(Pic)"
   ]
  },
  {
   "cell_type": "code",
   "execution_count": 183,
   "metadata": {},
   "outputs": [
    {
     "name": "stdout",
     "output_type": "stream",
     "text": [
      "(28, 28, 3)\n"
     ]
    }
   ],
   "source": [
    "# convert image to array\n",
    "\n",
    "# array has 3 dimensions for RBG but we only use B/W for this model so we use im[:,:,0]\n",
    "from keras.preprocessing.image import img_to_array\n",
    "\n",
    "\n",
    "Pic=img_to_array(Pic)\n",
    "\n",
    "print (Pic.shape)"
   ]
  },
  {
   "cell_type": "code",
   "execution_count": 184,
   "metadata": {},
   "outputs": [
    {
     "name": "stdout",
     "output_type": "stream",
     "text": [
      "(28, 28)\n",
      "(1, 784)\n"
     ]
    }
   ],
   "source": [
    "# now we need to convert array to 1D array and test model\n",
    "\n",
    "# onyly check with one color\n",
    "Test_pic=Pic[:,:,0]\n",
    "\n",
    "\n",
    "print (Test_pic.shape)\n",
    "\n",
    "\n",
    "Test_pic=Test_pic.reshape(1,28*28)\n",
    "\n",
    "print (Test_pic.shape)"
   ]
  },
  {
   "cell_type": "code",
   "execution_count": 185,
   "metadata": {},
   "outputs": [
    {
     "name": "stdout",
     "output_type": "stream",
     "text": [
      "(3, 784)\n"
     ]
    }
   ],
   "source": [
    "Test_pic=Pic.reshape(3,28*28)\n",
    "\n",
    "print (Test_pic.shape)"
   ]
  },
  {
   "cell_type": "code",
   "execution_count": 189,
   "metadata": {},
   "outputs": [
    {
     "name": "stdout",
     "output_type": "stream",
     "text": [
      "(3, 784)\n"
     ]
    },
    {
     "data": {
      "text/plain": [
       "5"
      ]
     },
     "execution_count": 189,
     "metadata": {},
     "output_type": "execute_result"
    }
   ],
   "source": [
    "# test the model\n",
    "\n",
    "# before testing we need to use scaler\n",
    "\n",
    "Test= scaler.transform(Test_pic)\n",
    "\n",
    "print (Test.shape)\n",
    "\n",
    "model.predict_classes(Test)[1]"
   ]
  },
  {
   "cell_type": "code",
   "execution_count": 180,
   "metadata": {},
   "outputs": [
    {
     "name": "stdout",
     "output_type": "stream",
     "text": [
      "4\n"
     ]
    },
    {
     "data": {
      "text/plain": [
       "<matplotlib.image.AxesImage at 0x127d650b8>"
      ]
     },
     "execution_count": 180,
     "metadata": {},
     "output_type": "execute_result"
    },
    {
     "data": {
      "image/png": "[encoded data removed]",
      "text/plain": [
       "<Figure size 432x288 with 1 Axes>"
      ]
     },
     "metadata": {
      "needs_background": "light"
     },
     "output_type": "display_data"
    }
   ],
   "source": [
    "# array 4 is number 5\n",
    "\n",
    "(X_train, y_train), (X_test, y_test) = mnist.load_data()\n",
    "\n",
    "print (y_train[2])\n",
    "\n",
    "plt.imshow(X_train[2,:,:])"
   ]
  },
  {
   "cell_type": "code",
   "execution_count": 190,
   "metadata": {},
   "outputs": [
    {
     "data": {
      "text/plain": [
       "<matplotlib.image.AxesImage at 0x127cb4240>"
      ]
     },
     "execution_count": 190,
     "metadata": {},
     "output_type": "execute_result"
    },
    {
     "data": {
      "image/png": "[encoded data removed]",
      "text/plain": [
       "<Figure size 432x288 with 1 Axes>"
      ]
     },
     "metadata": {
      "needs_background": "light"
     },
     "output_type": "display_data"
    }
   ],
   "source": [
    "a=np.array([[0,0,0,0,400,0,0,0,0,0,0],\n",
    "            [0,0,0,0,400,200,0,0,0,0,0],\n",
    "            [0,0,0,200,0,0,200,0,0,0,0],\n",
    "            [0,0,200,0,0,0,0,200,0,0,0],\n",
    "            [0,0,0,256,0,0,0,0,0,200,0],\n",
    "            [0,0,0,0,256,0,0,0,0,0,200],\n",
    "            [0,0,0,0,0,256,0,0,0,256,0],\n",
    "            [0,0,0,0,0,0,256,0,256,0,0],\n",
    "            [0,0,0,0,0,0,0,200,0,0,0]])\n",
    "plt.imshow(a)"
   ]
  },
  {
   "cell_type": "code",
   "execution_count": 195,
   "metadata": {},
   "outputs": [
    {
     "ename": "TypeError",
     "evalue": "data type not understood",
     "output_type": "error",
     "traceback": [
      "\u001b[0;31m---------------------------------------------------------------------------\u001b[0m",
      "\u001b[0;31mTypeError\u001b[0m                                 Traceback (most recent call last)",
      "\u001b[0;32m<ipython-input-195-51c27cd6b4ae>\u001b[0m in \u001b[0;36m<module>\u001b[0;34m\u001b[0m\n\u001b[0;32m----> 1\u001b[0;31m \u001b[0mplt\u001b[0m\u001b[0;34m.\u001b[0m\u001b[0mimshow\u001b[0m\u001b[0;34m(\u001b[0m\u001b[0mnp\u001b[0m\u001b[0;34m.\u001b[0m\u001b[0mzeros\u001b[0m\u001b[0;34m(\u001b[0m\u001b[0;36m28\u001b[0m\u001b[0;34m,\u001b[0m\u001b[0;36m28\u001b[0m\u001b[0;34m)\u001b[0m\u001b[0;34m)\u001b[0m\u001b[0;34m\u001b[0m\u001b[0m\n\u001b[0m",
      "\u001b[0;31mTypeError\u001b[0m: data type not understood"
     ]
    }
   ],
   "source": [
    "plt.imshow(np.zeros(28,28))"
   ]
  },
  {
   "cell_type": "code",
   "execution_count": 198,
   "metadata": {},
   "outputs": [
    {
     "data": {
      "text/plain": [
       "array([[0., 0., 0., 0., 0., 0., 0., 0., 0., 0., 0., 0., 0., 0., 0., 0.,\n",
       "        0., 0., 0., 0., 0., 0., 0., 0., 0., 0., 0., 0.],\n",
       "       [0., 0., 0., 0., 0., 0., 0., 0., 0., 0., 0., 0., 0., 0., 0., 0.,\n",
       "        0., 0., 0., 0., 0., 0., 0., 0., 0., 0., 0., 0.],\n",
       "       [0., 0., 0., 0., 0., 0., 0., 0., 0., 0., 0., 0., 0., 0., 0., 0.,\n",
       "        0., 0., 0., 0., 0., 0., 0., 0., 0., 0., 0., 0.],\n",
       "       [0., 0., 0., 0., 0., 0., 0., 0., 0., 0., 0., 0., 0., 0., 0., 0.,\n",
       "        0., 0., 0., 0., 0., 0., 0., 0., 0., 0., 0., 0.],\n",
       "       [0., 0., 0., 0., 0., 0., 0., 0., 0., 0., 0., 0., 0., 0., 0., 0.,\n",
       "        0., 0., 0., 0., 0., 0., 0., 0., 0., 0., 0., 0.],\n",
       "       [0., 0., 0., 0., 0., 0., 0., 0., 0., 0., 0., 0., 0., 0., 0., 0.,\n",
       "        0., 0., 0., 0., 0., 0., 0., 0., 0., 0., 0., 0.],\n",
       "       [0., 0., 0., 0., 0., 0., 0., 0., 0., 0., 0., 0., 0., 0., 0., 0.,\n",
       "        0., 0., 0., 0., 0., 0., 0., 0., 0., 0., 0., 0.],\n",
       "       [0., 0., 0., 0., 0., 0., 0., 0., 0., 0., 0., 0., 0., 0., 0., 0.,\n",
       "        0., 0., 0., 0., 0., 0., 0., 0., 0., 0., 0., 0.],\n",
       "       [0., 0., 0., 0., 0., 0., 0., 0., 0., 0., 0., 0., 0., 0., 0., 0.,\n",
       "        0., 0., 0., 0., 0., 0., 0., 0., 0., 0., 0., 0.],\n",
       "       [0., 0., 0., 0., 0., 0., 0., 0., 0., 0., 0., 0., 0., 0., 0., 0.,\n",
       "        0., 0., 0., 0., 0., 0., 0., 0., 0., 0., 0., 0.],\n",
       "       [0., 0., 0., 0., 0., 0., 0., 0., 0., 0., 0., 0., 0., 0., 0., 0.,\n",
       "        0., 0., 0., 0., 0., 0., 0., 0., 0., 0., 0., 0.],\n",
       "       [0., 0., 0., 0., 0., 0., 0., 0., 0., 0., 0., 0., 0., 0., 0., 0.,\n",
       "        0., 0., 0., 0., 0., 0., 0., 0., 0., 0., 0., 0.],\n",
       "       [0., 0., 0., 0., 0., 0., 0., 0., 0., 0., 0., 0., 0., 0., 0., 0.,\n",
       "        0., 0., 0., 0., 0., 0., 0., 0., 0., 0., 0., 0.],\n",
       "       [0., 0., 0., 0., 0., 0., 0., 0., 0., 0., 0., 0., 0., 0., 0., 0.,\n",
       "        0., 0., 0., 0., 0., 0., 0., 0., 0., 0., 0., 0.],\n",
       "       [0., 0., 0., 0., 0., 0., 0., 0., 0., 0., 0., 0., 0., 0., 0., 0.,\n",
       "        0., 0., 0., 0., 0., 0., 0., 0., 0., 0., 0., 0.],\n",
       "       [0., 0., 0., 0., 0., 0., 0., 0., 0., 0., 0., 0., 0., 0., 0., 0.,\n",
       "        0., 0., 0., 0., 0., 0., 0., 0., 0., 0., 0., 0.],\n",
       "       [0., 0., 0., 0., 0., 0., 0., 0., 0., 0., 0., 0., 0., 0., 0., 0.,\n",
       "        0., 0., 0., 0., 0., 0., 0., 0., 0., 0., 0., 0.],\n",
       "       [0., 0., 0., 0., 0., 0., 0., 0., 0., 0., 0., 0., 0., 0., 0., 0.,\n",
       "        0., 0., 0., 0., 0., 0., 0., 0., 0., 0., 0., 0.],\n",
       "       [0., 0., 0., 0., 0., 0., 0., 0., 0., 0., 0., 0., 0., 0., 0., 0.,\n",
       "        0., 0., 0., 0., 0., 0., 0., 0., 0., 0., 0., 0.],\n",
       "       [0., 0., 0., 0., 0., 0., 0., 0., 0., 0., 0., 0., 0., 0., 0., 0.,\n",
       "        0., 0., 0., 0., 0., 0., 0., 0., 0., 0., 0., 0.],\n",
       "       [0., 0., 0., 0., 0., 0., 0., 0., 0., 0., 0., 0., 0., 0., 0., 0.,\n",
       "        0., 0., 0., 0., 0., 0., 0., 0., 0., 0., 0., 0.],\n",
       "       [0., 0., 0., 0., 0., 0., 0., 0., 0., 0., 0., 0., 0., 0., 0., 0.,\n",
       "        0., 0., 0., 0., 0., 0., 0., 0., 0., 0., 0., 0.],\n",
       "       [0., 0., 0., 0., 0., 0., 0., 0., 0., 0., 0., 0., 0., 0., 0., 0.,\n",
       "        0., 0., 0., 0., 0., 0., 0., 0., 0., 0., 0., 0.],\n",
       "       [0., 0., 0., 0., 0., 0., 0., 0., 0., 0., 0., 0., 0., 0., 0., 0.,\n",
       "        0., 0., 0., 0., 0., 0., 0., 0., 0., 0., 0., 0.],\n",
       "       [0., 0., 0., 0., 0., 0., 0., 0., 0., 0., 0., 0., 0., 0., 0., 0.,\n",
       "        0., 0., 0., 0., 0., 0., 0., 0., 0., 0., 0., 0.],\n",
       "       [0., 0., 0., 0., 0., 0., 0., 0., 0., 0., 0., 0., 0., 0., 0., 0.,\n",
       "        0., 0., 0., 0., 0., 0., 0., 0., 0., 0., 0., 0.],\n",
       "       [0., 0., 0., 0., 0., 0., 0., 0., 0., 0., 0., 0., 0., 0., 0., 0.,\n",
       "        0., 0., 0., 0., 0., 0., 0., 0., 0., 0., 0., 0.],\n",
       "       [0., 0., 0., 0., 0., 0., 0., 0., 0., 0., 0., 0., 0., 0., 0., 0.,\n",
       "        0., 0., 0., 0., 0., 0., 0., 0., 0., 0., 0., 0.]])"
      ]
     },
     "execution_count": 198,
     "metadata": {},
     "output_type": "execute_result"
    }
   ],
   "source": [
    "np.zeros((28,28))"
   ]
  },
  {
   "cell_type": "code",
   "execution_count": null,
   "metadata": {},
   "outputs": [],
   "source": []
  }
 ],
 "metadata": {
  "kernelspec": {
   "display_name": "Python 3",
   "language": "python",
   "name": "python3"
  },
  "language_info": {
   "codemirror_mode": {
    "name": "ipython",
    "version": 3
   },
   "file_extension": ".py",
   "mimetype": "text/x-python",
   "name": "python",
   "nbconvert_exporter": "python",
   "pygments_lexer": "ipython3",
   "version": "3.6.6"
  }
 },
 "nbformat": 4,
 "nbformat_minor": 2
}
